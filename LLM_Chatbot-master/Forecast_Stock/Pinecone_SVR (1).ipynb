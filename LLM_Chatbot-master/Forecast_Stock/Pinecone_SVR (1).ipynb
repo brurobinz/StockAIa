{
 "cells": [
  {
   "cell_type": "code",
   "execution_count": 1,
   "id": "2405b70e",
   "metadata": {},
   "outputs": [
    {
     "name": "stdout",
     "output_type": "stream",
     "text": [
      "Defaulting to user installation because normal site-packages is not writeable\n",
      "Requirement already satisfied: sentence-transformers in c:\\users\\pham ty\\appdata\\roaming\\python\\python312\\site-packages (3.1.1)\n",
      "Requirement already satisfied: pandas in c:\\programdata\\anaconda3\\lib\\site-packages (2.2.2)\n",
      "Requirement already satisfied: pinecone-client in c:\\users\\pham ty\\appdata\\roaming\\python\\python312\\site-packages (5.0.1)\n",
      "Requirement already satisfied: transformers<5.0.0,>=4.38.0 in c:\\users\\pham ty\\appdata\\roaming\\python\\python312\\site-packages (from sentence-transformers) (4.44.2)\n",
      "Requirement already satisfied: tqdm in c:\\programdata\\anaconda3\\lib\\site-packages (from sentence-transformers) (4.66.4)\n",
      "Requirement already satisfied: torch>=1.11.0 in c:\\users\\pham ty\\appdata\\roaming\\python\\python312\\site-packages (from sentence-transformers) (2.4.1+cu124)\n",
      "Requirement already satisfied: scikit-learn in c:\\programdata\\anaconda3\\lib\\site-packages (from sentence-transformers) (1.4.2)\n",
      "Requirement already satisfied: scipy in c:\\programdata\\anaconda3\\lib\\site-packages (from sentence-transformers) (1.13.1)\n",
      "Requirement already satisfied: huggingface-hub>=0.19.3 in c:\\users\\pham ty\\appdata\\roaming\\python\\python312\\site-packages (from sentence-transformers) (0.24.6)\n",
      "Requirement already satisfied: Pillow in c:\\programdata\\anaconda3\\lib\\site-packages (from sentence-transformers) (10.3.0)\n",
      "Requirement already satisfied: numpy>=1.26.0 in c:\\programdata\\anaconda3\\lib\\site-packages (from pandas) (1.26.4)\n",
      "Requirement already satisfied: python-dateutil>=2.8.2 in c:\\programdata\\anaconda3\\lib\\site-packages (from pandas) (2.9.0.post0)\n",
      "Requirement already satisfied: pytz>=2020.1 in c:\\programdata\\anaconda3\\lib\\site-packages (from pandas) (2024.1)\n",
      "Requirement already satisfied: tzdata>=2022.7 in c:\\programdata\\anaconda3\\lib\\site-packages (from pandas) (2023.3)\n",
      "Requirement already satisfied: certifi>=2019.11.17 in c:\\programdata\\anaconda3\\lib\\site-packages (from pinecone-client) (2024.6.2)\n",
      "Requirement already satisfied: pinecone-plugin-inference<2.0.0,>=1.0.3 in c:\\users\\pham ty\\appdata\\roaming\\python\\python312\\site-packages (from pinecone-client) (1.0.3)\n",
      "Requirement already satisfied: pinecone-plugin-interface<0.0.8,>=0.0.7 in c:\\users\\pham ty\\appdata\\roaming\\python\\python312\\site-packages (from pinecone-client) (0.0.7)\n",
      "Requirement already satisfied: typing-extensions>=3.7.4 in c:\\programdata\\anaconda3\\lib\\site-packages (from pinecone-client) (4.11.0)\n",
      "Requirement already satisfied: urllib3>=1.26.5 in c:\\programdata\\anaconda3\\lib\\site-packages (from pinecone-client) (2.2.2)\n",
      "Requirement already satisfied: filelock in c:\\programdata\\anaconda3\\lib\\site-packages (from huggingface-hub>=0.19.3->sentence-transformers) (3.13.1)\n",
      "Requirement already satisfied: fsspec>=2023.5.0 in c:\\programdata\\anaconda3\\lib\\site-packages (from huggingface-hub>=0.19.3->sentence-transformers) (2024.3.1)\n",
      "Requirement already satisfied: packaging>=20.9 in c:\\programdata\\anaconda3\\lib\\site-packages (from huggingface-hub>=0.19.3->sentence-transformers) (23.2)\n",
      "Requirement already satisfied: pyyaml>=5.1 in c:\\programdata\\anaconda3\\lib\\site-packages (from huggingface-hub>=0.19.3->sentence-transformers) (6.0.1)\n",
      "Requirement already satisfied: requests in c:\\programdata\\anaconda3\\lib\\site-packages (from huggingface-hub>=0.19.3->sentence-transformers) (2.32.2)\n",
      "Requirement already satisfied: six>=1.5 in c:\\programdata\\anaconda3\\lib\\site-packages (from python-dateutil>=2.8.2->pandas) (1.16.0)\n",
      "Requirement already satisfied: sympy in c:\\programdata\\anaconda3\\lib\\site-packages (from torch>=1.11.0->sentence-transformers) (1.12)\n",
      "Requirement already satisfied: networkx in c:\\programdata\\anaconda3\\lib\\site-packages (from torch>=1.11.0->sentence-transformers) (3.2.1)\n",
      "Requirement already satisfied: jinja2 in c:\\programdata\\anaconda3\\lib\\site-packages (from torch>=1.11.0->sentence-transformers) (3.1.4)\n",
      "Requirement already satisfied: setuptools in c:\\programdata\\anaconda3\\lib\\site-packages (from torch>=1.11.0->sentence-transformers) (69.5.1)\n",
      "Requirement already satisfied: colorama in c:\\programdata\\anaconda3\\lib\\site-packages (from tqdm->sentence-transformers) (0.4.6)\n",
      "Requirement already satisfied: regex!=2019.12.17 in c:\\programdata\\anaconda3\\lib\\site-packages (from transformers<5.0.0,>=4.38.0->sentence-transformers) (2023.10.3)\n",
      "Requirement already satisfied: safetensors>=0.4.1 in c:\\users\\pham ty\\appdata\\roaming\\python\\python312\\site-packages (from transformers<5.0.0,>=4.38.0->sentence-transformers) (0.4.5)\n",
      "Requirement already satisfied: tokenizers<0.20,>=0.19 in c:\\users\\pham ty\\appdata\\roaming\\python\\python312\\site-packages (from transformers<5.0.0,>=4.38.0->sentence-transformers) (0.19.1)\n",
      "Requirement already satisfied: joblib>=1.2.0 in c:\\programdata\\anaconda3\\lib\\site-packages (from scikit-learn->sentence-transformers) (1.4.2)\n",
      "Requirement already satisfied: threadpoolctl>=2.0.0 in c:\\programdata\\anaconda3\\lib\\site-packages (from scikit-learn->sentence-transformers) (2.2.0)\n",
      "Requirement already satisfied: MarkupSafe>=2.0 in c:\\programdata\\anaconda3\\lib\\site-packages (from jinja2->torch>=1.11.0->sentence-transformers) (2.1.3)\n",
      "Requirement already satisfied: charset-normalizer<4,>=2 in c:\\programdata\\anaconda3\\lib\\site-packages (from requests->huggingface-hub>=0.19.3->sentence-transformers) (2.0.4)\n",
      "Requirement already satisfied: idna<4,>=2.5 in c:\\programdata\\anaconda3\\lib\\site-packages (from requests->huggingface-hub>=0.19.3->sentence-transformers) (3.7)\n",
      "Requirement already satisfied: mpmath>=0.19 in c:\\programdata\\anaconda3\\lib\\site-packages (from sympy->torch>=1.11.0->sentence-transformers) (1.3.0)\n"
     ]
    }
   ],
   "source": [
    "!pip install sentence-transformers pandas pinecone-client"
   ]
  },
  {
   "cell_type": "code",
   "execution_count": 2,
   "id": "abac6e49",
   "metadata": {},
   "outputs": [
    {
     "name": "stdout",
     "output_type": "stream",
     "text": [
      "Defaulting to user installation because normal site-packages is not writeable\n",
      "Requirement already satisfied: yfinance in c:\\users\\pham ty\\appdata\\roaming\\python\\python312\\site-packages (0.2.43)\n",
      "Requirement already satisfied: pandas>=1.3.0 in c:\\programdata\\anaconda3\\lib\\site-packages (from yfinance) (2.2.2)\n",
      "Requirement already satisfied: numpy>=1.16.5 in c:\\programdata\\anaconda3\\lib\\site-packages (from yfinance) (1.26.4)\n",
      "Requirement already satisfied: requests>=2.31 in c:\\programdata\\anaconda3\\lib\\site-packages (from yfinance) (2.32.2)\n",
      "Requirement already satisfied: multitasking>=0.0.7 in c:\\users\\pham ty\\appdata\\roaming\\python\\python312\\site-packages (from yfinance) (0.0.11)\n",
      "Requirement already satisfied: lxml>=4.9.1 in c:\\programdata\\anaconda3\\lib\\site-packages (from yfinance) (5.2.1)\n",
      "Requirement already satisfied: platformdirs>=2.0.0 in c:\\programdata\\anaconda3\\lib\\site-packages (from yfinance) (3.10.0)\n",
      "Requirement already satisfied: pytz>=2022.5 in c:\\programdata\\anaconda3\\lib\\site-packages (from yfinance) (2024.1)\n",
      "Requirement already satisfied: frozendict>=2.3.4 in c:\\programdata\\anaconda3\\lib\\site-packages (from yfinance) (2.4.2)\n",
      "Requirement already satisfied: peewee>=3.16.2 in c:\\users\\pham ty\\appdata\\roaming\\python\\python312\\site-packages (from yfinance) (3.17.6)\n",
      "Requirement already satisfied: beautifulsoup4>=4.11.1 in c:\\programdata\\anaconda3\\lib\\site-packages (from yfinance) (4.12.3)\n",
      "Requirement already satisfied: html5lib>=1.1 in c:\\users\\pham ty\\appdata\\roaming\\python\\python312\\site-packages (from yfinance) (1.1)\n",
      "Requirement already satisfied: soupsieve>1.2 in c:\\programdata\\anaconda3\\lib\\site-packages (from beautifulsoup4>=4.11.1->yfinance) (2.5)\n",
      "Requirement already satisfied: six>=1.9 in c:\\programdata\\anaconda3\\lib\\site-packages (from html5lib>=1.1->yfinance) (1.16.0)\n",
      "Requirement already satisfied: webencodings in c:\\programdata\\anaconda3\\lib\\site-packages (from html5lib>=1.1->yfinance) (0.5.1)\n",
      "Requirement already satisfied: python-dateutil>=2.8.2 in c:\\programdata\\anaconda3\\lib\\site-packages (from pandas>=1.3.0->yfinance) (2.9.0.post0)\n",
      "Requirement already satisfied: tzdata>=2022.7 in c:\\programdata\\anaconda3\\lib\\site-packages (from pandas>=1.3.0->yfinance) (2023.3)\n",
      "Requirement already satisfied: charset-normalizer<4,>=2 in c:\\programdata\\anaconda3\\lib\\site-packages (from requests>=2.31->yfinance) (2.0.4)\n",
      "Requirement already satisfied: idna<4,>=2.5 in c:\\programdata\\anaconda3\\lib\\site-packages (from requests>=2.31->yfinance) (3.7)\n",
      "Requirement already satisfied: urllib3<3,>=1.21.1 in c:\\programdata\\anaconda3\\lib\\site-packages (from requests>=2.31->yfinance) (2.2.2)\n",
      "Requirement already satisfied: certifi>=2017.4.17 in c:\\programdata\\anaconda3\\lib\\site-packages (from requests>=2.31->yfinance) (2024.6.2)\n"
     ]
    }
   ],
   "source": [
    "!pip install yfinance"
   ]
  },
  {
   "cell_type": "code",
   "execution_count": 3,
   "id": "ef5cf2ea",
   "metadata": {},
   "outputs": [
    {
     "name": "stdout",
     "output_type": "stream",
     "text": [
      "Defaulting to user installation because normal site-packages is not writeable\n",
      "Requirement already satisfied: tf-keras in c:\\users\\pham ty\\appdata\\roaming\\python\\python312\\site-packages (2.17.0)\n",
      "Requirement already satisfied: tensorflow<2.18,>=2.17 in c:\\users\\pham ty\\appdata\\roaming\\python\\python312\\site-packages (from tf-keras) (2.17.0)\n",
      "Requirement already satisfied: tensorflow-intel==2.17.0 in c:\\users\\pham ty\\appdata\\roaming\\python\\python312\\site-packages (from tensorflow<2.18,>=2.17->tf-keras) (2.17.0)\n",
      "Requirement already satisfied: absl-py>=1.0.0 in c:\\users\\pham ty\\appdata\\roaming\\python\\python312\\site-packages (from tensorflow-intel==2.17.0->tensorflow<2.18,>=2.17->tf-keras) (2.1.0)\n",
      "Requirement already satisfied: astunparse>=1.6.0 in c:\\users\\pham ty\\appdata\\roaming\\python\\python312\\site-packages (from tensorflow-intel==2.17.0->tensorflow<2.18,>=2.17->tf-keras) (1.6.3)\n",
      "Requirement already satisfied: flatbuffers>=24.3.25 in c:\\users\\pham ty\\appdata\\roaming\\python\\python312\\site-packages (from tensorflow-intel==2.17.0->tensorflow<2.18,>=2.17->tf-keras) (24.3.25)\n",
      "Requirement already satisfied: gast!=0.5.0,!=0.5.1,!=0.5.2,>=0.2.1 in c:\\users\\pham ty\\appdata\\roaming\\python\\python312\\site-packages (from tensorflow-intel==2.17.0->tensorflow<2.18,>=2.17->tf-keras) (0.6.0)\n",
      "Requirement already satisfied: google-pasta>=0.1.1 in c:\\users\\pham ty\\appdata\\roaming\\python\\python312\\site-packages (from tensorflow-intel==2.17.0->tensorflow<2.18,>=2.17->tf-keras) (0.2.0)\n",
      "Requirement already satisfied: h5py>=3.10.0 in c:\\programdata\\anaconda3\\lib\\site-packages (from tensorflow-intel==2.17.0->tensorflow<2.18,>=2.17->tf-keras) (3.11.0)\n",
      "Requirement already satisfied: libclang>=13.0.0 in c:\\users\\pham ty\\appdata\\roaming\\python\\python312\\site-packages (from tensorflow-intel==2.17.0->tensorflow<2.18,>=2.17->tf-keras) (18.1.1)\n",
      "Requirement already satisfied: ml-dtypes<0.5.0,>=0.3.1 in c:\\users\\pham ty\\appdata\\roaming\\python\\python312\\site-packages (from tensorflow-intel==2.17.0->tensorflow<2.18,>=2.17->tf-keras) (0.4.1)\n",
      "Requirement already satisfied: opt-einsum>=2.3.2 in c:\\users\\pham ty\\appdata\\roaming\\python\\python312\\site-packages (from tensorflow-intel==2.17.0->tensorflow<2.18,>=2.17->tf-keras) (3.3.0)\n",
      "Requirement already satisfied: packaging in c:\\programdata\\anaconda3\\lib\\site-packages (from tensorflow-intel==2.17.0->tensorflow<2.18,>=2.17->tf-keras) (23.2)\n",
      "Requirement already satisfied: protobuf!=4.21.0,!=4.21.1,!=4.21.2,!=4.21.3,!=4.21.4,!=4.21.5,<5.0.0dev,>=3.20.3 in c:\\users\\pham ty\\appdata\\roaming\\python\\python312\\site-packages (from tensorflow-intel==2.17.0->tensorflow<2.18,>=2.17->tf-keras) (4.25.5)\n",
      "Requirement already satisfied: requests<3,>=2.21.0 in c:\\programdata\\anaconda3\\lib\\site-packages (from tensorflow-intel==2.17.0->tensorflow<2.18,>=2.17->tf-keras) (2.32.2)\n",
      "Requirement already satisfied: setuptools in c:\\programdata\\anaconda3\\lib\\site-packages (from tensorflow-intel==2.17.0->tensorflow<2.18,>=2.17->tf-keras) (69.5.1)\n",
      "Requirement already satisfied: six>=1.12.0 in c:\\programdata\\anaconda3\\lib\\site-packages (from tensorflow-intel==2.17.0->tensorflow<2.18,>=2.17->tf-keras) (1.16.0)\n",
      "Requirement already satisfied: termcolor>=1.1.0 in c:\\users\\pham ty\\appdata\\roaming\\python\\python312\\site-packages (from tensorflow-intel==2.17.0->tensorflow<2.18,>=2.17->tf-keras) (2.4.0)\n",
      "Requirement already satisfied: typing-extensions>=3.6.6 in c:\\programdata\\anaconda3\\lib\\site-packages (from tensorflow-intel==2.17.0->tensorflow<2.18,>=2.17->tf-keras) (4.11.0)\n",
      "Requirement already satisfied: wrapt>=1.11.0 in c:\\programdata\\anaconda3\\lib\\site-packages (from tensorflow-intel==2.17.0->tensorflow<2.18,>=2.17->tf-keras) (1.14.1)\n",
      "Requirement already satisfied: grpcio<2.0,>=1.24.3 in c:\\users\\pham ty\\appdata\\roaming\\python\\python312\\site-packages (from tensorflow-intel==2.17.0->tensorflow<2.18,>=2.17->tf-keras) (1.66.1)\n",
      "Requirement already satisfied: tensorboard<2.18,>=2.17 in c:\\users\\pham ty\\appdata\\roaming\\python\\python312\\site-packages (from tensorflow-intel==2.17.0->tensorflow<2.18,>=2.17->tf-keras) (2.17.1)\n",
      "Requirement already satisfied: keras>=3.2.0 in c:\\users\\pham ty\\appdata\\roaming\\python\\python312\\site-packages (from tensorflow-intel==2.17.0->tensorflow<2.18,>=2.17->tf-keras) (3.5.0)\n",
      "Requirement already satisfied: numpy<2.0.0,>=1.26.0 in c:\\programdata\\anaconda3\\lib\\site-packages (from tensorflow-intel==2.17.0->tensorflow<2.18,>=2.17->tf-keras) (1.26.4)\n",
      "Requirement already satisfied: wheel<1.0,>=0.23.0 in c:\\programdata\\anaconda3\\lib\\site-packages (from astunparse>=1.6.0->tensorflow-intel==2.17.0->tensorflow<2.18,>=2.17->tf-keras) (0.43.0)\n",
      "Requirement already satisfied: rich in c:\\programdata\\anaconda3\\lib\\site-packages (from keras>=3.2.0->tensorflow-intel==2.17.0->tensorflow<2.18,>=2.17->tf-keras) (13.3.5)\n",
      "Requirement already satisfied: namex in c:\\users\\pham ty\\appdata\\roaming\\python\\python312\\site-packages (from keras>=3.2.0->tensorflow-intel==2.17.0->tensorflow<2.18,>=2.17->tf-keras) (0.0.8)\n",
      "Requirement already satisfied: optree in c:\\users\\pham ty\\appdata\\roaming\\python\\python312\\site-packages (from keras>=3.2.0->tensorflow-intel==2.17.0->tensorflow<2.18,>=2.17->tf-keras) (0.12.1)\n",
      "Requirement already satisfied: charset-normalizer<4,>=2 in c:\\programdata\\anaconda3\\lib\\site-packages (from requests<3,>=2.21.0->tensorflow-intel==2.17.0->tensorflow<2.18,>=2.17->tf-keras) (2.0.4)\n",
      "Requirement already satisfied: idna<4,>=2.5 in c:\\programdata\\anaconda3\\lib\\site-packages (from requests<3,>=2.21.0->tensorflow-intel==2.17.0->tensorflow<2.18,>=2.17->tf-keras) (3.7)\n",
      "Requirement already satisfied: urllib3<3,>=1.21.1 in c:\\programdata\\anaconda3\\lib\\site-packages (from requests<3,>=2.21.0->tensorflow-intel==2.17.0->tensorflow<2.18,>=2.17->tf-keras) (2.2.2)\n",
      "Requirement already satisfied: certifi>=2017.4.17 in c:\\programdata\\anaconda3\\lib\\site-packages (from requests<3,>=2.21.0->tensorflow-intel==2.17.0->tensorflow<2.18,>=2.17->tf-keras) (2024.6.2)\n",
      "Requirement already satisfied: markdown>=2.6.8 in c:\\programdata\\anaconda3\\lib\\site-packages (from tensorboard<2.18,>=2.17->tensorflow-intel==2.17.0->tensorflow<2.18,>=2.17->tf-keras) (3.4.1)\n",
      "Requirement already satisfied: tensorboard-data-server<0.8.0,>=0.7.0 in c:\\users\\pham ty\\appdata\\roaming\\python\\python312\\site-packages (from tensorboard<2.18,>=2.17->tensorflow-intel==2.17.0->tensorflow<2.18,>=2.17->tf-keras) (0.7.2)\n",
      "Requirement already satisfied: werkzeug>=1.0.1 in c:\\programdata\\anaconda3\\lib\\site-packages (from tensorboard<2.18,>=2.17->tensorflow-intel==2.17.0->tensorflow<2.18,>=2.17->tf-keras) (3.0.3)\n",
      "Requirement already satisfied: MarkupSafe>=2.1.1 in c:\\programdata\\anaconda3\\lib\\site-packages (from werkzeug>=1.0.1->tensorboard<2.18,>=2.17->tensorflow-intel==2.17.0->tensorflow<2.18,>=2.17->tf-keras) (2.1.3)\n",
      "Requirement already satisfied: markdown-it-py<3.0.0,>=2.2.0 in c:\\programdata\\anaconda3\\lib\\site-packages (from rich->keras>=3.2.0->tensorflow-intel==2.17.0->tensorflow<2.18,>=2.17->tf-keras) (2.2.0)\n",
      "Requirement already satisfied: pygments<3.0.0,>=2.13.0 in c:\\programdata\\anaconda3\\lib\\site-packages (from rich->keras>=3.2.0->tensorflow-intel==2.17.0->tensorflow<2.18,>=2.17->tf-keras) (2.15.1)\n",
      "Requirement already satisfied: mdurl~=0.1 in c:\\programdata\\anaconda3\\lib\\site-packages (from markdown-it-py<3.0.0,>=2.2.0->rich->keras>=3.2.0->tensorflow-intel==2.17.0->tensorflow<2.18,>=2.17->tf-keras) (0.1.0)\n"
     ]
    }
   ],
   "source": [
    "!pip install tf-keras"
   ]
  },
  {
   "cell_type": "markdown",
   "id": "bdC6tcRtolSC",
   "metadata": {
    "id": "bdC6tcRtolSC"
   },
   "source": [
    "# Pinecone and Dataset"
   ]
  },
  {
   "cell_type": "code",
   "execution_count": 4,
   "id": "ce7c6982",
   "metadata": {},
   "outputs": [
    {
     "name": "stderr",
     "output_type": "stream",
     "text": [
      "C:\\Users\\Pham Ty\\AppData\\Roaming\\Python\\Python312\\site-packages\\sentence_transformers\\cross_encoder\\CrossEncoder.py:13: TqdmExperimentalWarning: Using `tqdm.autonotebook.tqdm` in notebook mode. Use `tqdm.tqdm` instead to force console mode (e.g. in jupyter console)\n",
      "  from tqdm.autonotebook import tqdm, trange\n"
     ]
    },
    {
     "name": "stdout",
     "output_type": "stream",
     "text": [
      "WARNING:tensorflow:From C:\\Users\\Pham Ty\\AppData\\Roaming\\Python\\Python312\\site-packages\\tf_keras\\src\\losses.py:2976: The name tf.losses.sparse_softmax_cross_entropy is deprecated. Please use tf.compat.v1.losses.sparse_softmax_cross_entropy instead.\n",
      "\n"
     ]
    }
   ],
   "source": [
    "import os\n",
    "import pandas as pd\n",
    "from sentence_transformers import SentenceTransformer\n",
    "from pinecone import Pinecone\n",
    "import logging\n",
    "import yfinance as yf"
   ]
  },
  {
   "cell_type": "code",
   "execution_count": 5,
   "id": "562e0787",
   "metadata": {},
   "outputs": [],
   "source": [
    "# Initialize logging\n",
    "logging.basicConfig(level=logging.INFO)\n",
    "logger = logging.getLogger(__name__)"
   ]
  },
  {
   "cell_type": "code",
   "execution_count": 6,
   "id": "9029cf41",
   "metadata": {},
   "outputs": [
    {
     "name": "stderr",
     "output_type": "stream",
     "text": [
      "INFO:pinecone_plugin_interface.logging:Discovering subpackages in _NamespacePath(['C:\\\\Users\\\\Pham Ty\\\\AppData\\\\Roaming\\\\Python\\\\Python312\\\\site-packages\\\\pinecone_plugins'])\n",
      "INFO:pinecone_plugin_interface.logging:Looking for plugins in pinecone_plugins.inference\n",
      "INFO:pinecone_plugin_interface.logging:Installing plugin inference into Pinecone\n"
     ]
    }
   ],
   "source": [
    "# Initialize Pinecone\n",
    "pc = Pinecone(api_key=\"09bb980b-6cef-48c3-9aa5-63f3cbc9885e\")\n",
    "index = pc.Index(\"financial-data-index\")"
   ]
  },
  {
   "cell_type": "code",
   "execution_count": 7,
   "id": "c0eabdae",
   "metadata": {},
   "outputs": [
    {
     "name": "stderr",
     "output_type": "stream",
     "text": [
      "INFO:sentence_transformers.SentenceTransformer:Use pytorch device_name: cuda\n",
      "INFO:sentence_transformers.SentenceTransformer:Load pretrained SentenceTransformer: all-MiniLM-L6-v2\n",
      "C:\\Users\\Pham Ty\\AppData\\Roaming\\Python\\Python312\\site-packages\\transformers\\tokenization_utils_base.py:1601: FutureWarning: `clean_up_tokenization_spaces` was not set. It will be set to `True` by default. This behavior will be depracted in transformers v4.45, and will be then set to `False` by default. For more details check this issue: https://github.com/huggingface/transformers/issues/31884\n",
      "  warnings.warn(\n",
      "INFO:__main__:SentenceTransformer 'all-MiniLM-L6-v2' loaded successfully.\n"
     ]
    }
   ],
   "source": [
    "# Initialize SentenceTransformer model\n",
    "embedding_model = SentenceTransformer('all-MiniLM-L6-v2')\n",
    "logger.info(\"SentenceTransformer 'all-MiniLM-L6-v2' loaded successfully.\")"
   ]
  },
  {
   "cell_type": "code",
   "execution_count": 8,
   "id": "9263dbed",
   "metadata": {},
   "outputs": [],
   "source": [
    "# Folder containing the CSV files\n",
    "folder_path = r'C:\\Users\\Pham Ty\\Desktop\\Thesis-Predict\\Dataset-2'\n",
    "\n",
    "# Folder to save the processed CSV files\n",
    "output_folder = r'C:\\Users\\Pham Ty\\Desktop\\Thesis-Predict\\Dataset_processed_2'"
   ]
  },
  {
   "cell_type": "code",
   "execution_count": 9,
   "id": "575cfffa",
   "metadata": {},
   "outputs": [],
   "source": [
    "# Định nghĩa danh sách các mã chứng khoán\n",
    "symbols = ['NVDA', 'INTC', 'PLTR', 'TSLA', 'AAPL', 'BBD', 'T', 'SOFI',\n",
    "    'WBD', 'SNAP', 'NIO', 'BTG', 'F', 'AAL', 'NOK', 'BAC',\n",
    "    'CCL', 'ORCL', 'AMD', 'PFE', 'KGC', 'MARA', 'SLB', 'NU',\n",
    "    'MPW', 'MU', 'LCID', 'NCLH', 'RIG', 'AMZN', 'ABEV', 'U',\n",
    "    'LUMN', 'AGNC', 'VZ', 'WBA', 'WFC', 'RIVN', 'UPST', 'GRAB',\n",
    "    'CSCO', 'VALE', 'AVGO', 'PBR', 'GOOGL', 'SMMT', 'GOLD',\n",
    "    'CMG', 'BCS', 'UAA']"
   ]
  },
  {
   "cell_type": "code",
   "execution_count": 10,
   "id": "5e63c347",
   "metadata": {},
   "outputs": [],
   "source": [
    "def fetch_and_save_stock_data(symbol, start_date='2019-01-01', end_date='2024-01-01'):\n",
    "    \"\"\"\n",
    "    Fetch stock data from Yahoo Finance, save to CSV, and upsert data into Pinecone.\n",
    "    \"\"\"\n",
    "    try:\n",
    "        # Fetch data from Yahoo Finance\n",
    "        stock_data = yf.download(symbol, start=start_date, end=end_date)\n",
    "\n",
    "        # Save data to CSV\n",
    "        csv_file_path = os.path.join(folder_path, f'{symbol}.csv')\n",
    "        stock_data.to_csv(csv_file_path)\n",
    "        logger.info(f\"Data for {symbol} saved to {csv_file_path}\")\n",
    "\n",
    "        # Load CSV data\n",
    "        df = pd.read_csv(csv_file_path)\n",
    "\n",
    "        # Select necessary columns and drop NaN values\n",
    "        required_columns = ['Date', 'Open', 'High', 'Low', 'Close', 'Adj Close', 'Volume']\n",
    "        if not all(col in df.columns for col in required_columns):\n",
    "            logger.error(f\"{csv_file_path} is missing one or more required columns: {required_columns}\")\n",
    "            return\n",
    "\n",
    "        df = df[required_columns].dropna()\n",
    "\n",
    "        # Convert each row into a single string of concatenated data\n",
    "        text_data = df.apply(\n",
    "            lambda row: f\"Date: {row['Date']}, Open: {row['Open']}, High: {row['High']}, Low: {row['Low']}, Close: {row['Close']}, Adj Close: {row['Adj Close']}, Volume: {row['Volume']}\",\n",
    "            axis=1\n",
    "        )\n",
    "\n",
    "        # Generate embeddings for the stock data\n",
    "        embeddings = embedding_model.encode(text_data.tolist(), convert_to_numpy=True)\n",
    "\n",
    "        # Prepare data for Pinecone upsert\n",
    "        vectors = [(f\"{symbol}_{i}\", embeddings[i].tolist(), {'symbol': symbol}) for i in range(len(embeddings))]\n",
    "\n",
    "        # Upsert data into Pinecone index\n",
    "        try:\n",
    "            response = index.upsert(vectors)\n",
    "            logger.info(f\"Successfully upserted {len(vectors)} vectors for {symbol}.\")\n",
    "            logger.info(f\"Pinecone response: {response}\")\n",
    "        except Exception as e:\n",
    "            logger.error(f\"Error upserting data into Pinecone for {symbol}: {e}\")\n",
    "\n",
    "        # Save the processed DataFrame to a new CSV file in the output folder\n",
    "        processed_file_path = os.path.join(output_folder, f'processed_{symbol}.csv')\n",
    "        df.to_csv(processed_file_path, index=False)\n",
    "        logger.info(f\"Processed data saved to {processed_file_path}\")\n",
    "\n",
    "    except Exception as e:\n",
    "        logger.error(f\"Error processing data for {symbol}: {e}\")"
   ]
  },
  {
   "cell_type": "code",
   "execution_count": 12,
   "id": "5721f989",
   "metadata": {},
   "outputs": [
    {
     "name": "stderr",
     "output_type": "stream",
     "text": [
      "[*********************100%***********************]  1 of 1 completed\n",
      "INFO:__main__:Data for NVDA saved to C:\\Users\\phamt\\Downloads\\Thesis_Project\\Dataset\\NVDA.csv\n"
     ]
    },
    {
     "data": {
      "application/vnd.jupyter.widget-view+json": {
       "model_id": "769ec91384ca487f9f47b5eeb0e45470",
       "version_major": 2,
       "version_minor": 0
      },
      "text/plain": [
       "Batches:   0%|          | 0/40 [00:00<?, ?it/s]"
      ]
     },
     "metadata": {},
     "output_type": "display_data"
    },
    {
     "name": "stderr",
     "output_type": "stream",
     "text": [
      "ERROR:__main__:Error upserting data into Pinecone for NVDA: (400)\n",
      "Reason: Bad Request\n",
      "HTTP response headers: HTTPHeaderDict({'Date': 'Sat, 28 Sep 2024 14:04:31 GMT', 'Content-Type': 'application/json', 'Content-Length': '113', 'Connection': 'keep-alive', 'x-pinecone-request-latency-ms': '6244', 'x-pinecone-request-id': '6608081258971590932', 'x-envoy-upstream-service-time': '15', 'server': 'envoy'})\n",
      "HTTP response body: {\"code\":3,\"message\":\"Number of provided vectors: 1258 exceeds the maximum amount per request: 1000\",\"details\":[]}\n",
      "\n",
      "INFO:__main__:Processed data saved to C:\\Users\\phamt\\Downloads\\Thesis_Project\\Processed_Dataset\\processed_NVDA.csv\n",
      "[*********************100%***********************]  1 of 1 completed\n",
      "INFO:__main__:Data for INTC saved to C:\\Users\\phamt\\Downloads\\Thesis_Project\\Dataset\\INTC.csv\n"
     ]
    },
    {
     "data": {
      "application/vnd.jupyter.widget-view+json": {
       "model_id": "e588ac961ff740268278084f8da7f9fb",
       "version_major": 2,
       "version_minor": 0
      },
      "text/plain": [
       "Batches:   0%|          | 0/40 [00:00<?, ?it/s]"
      ]
     },
     "metadata": {},
     "output_type": "display_data"
    },
    {
     "name": "stderr",
     "output_type": "stream",
     "text": [
      "ERROR:__main__:Error upserting data into Pinecone for INTC: (400)\n",
      "Reason: Bad Request\n",
      "HTTP response headers: HTTPHeaderDict({'Date': 'Sat, 28 Sep 2024 14:05:40 GMT', 'Content-Type': 'application/json', 'Content-Length': '113', 'Connection': 'keep-alive', 'x-pinecone-request-latency-ms': '13529', 'x-pinecone-request-id': '5894802343651214187', 'x-envoy-upstream-service-time': '57', 'server': 'envoy'})\n",
      "HTTP response body: {\"code\":3,\"message\":\"Number of provided vectors: 1258 exceeds the maximum amount per request: 1000\",\"details\":[]}\n",
      "\n",
      "INFO:__main__:Processed data saved to C:\\Users\\phamt\\Downloads\\Thesis_Project\\Processed_Dataset\\processed_INTC.csv\n",
      "[*********************100%***********************]  1 of 1 completed\n",
      "INFO:__main__:Data for PLTR saved to C:\\Users\\phamt\\Downloads\\Thesis_Project\\Dataset\\PLTR.csv\n"
     ]
    },
    {
     "data": {
      "application/vnd.jupyter.widget-view+json": {
       "model_id": "602f7771850f4037b396ff8df0de4a2a",
       "version_major": 2,
       "version_minor": 0
      },
      "text/plain": [
       "Batches:   0%|          | 0/26 [00:00<?, ?it/s]"
      ]
     },
     "metadata": {},
     "output_type": "display_data"
    },
    {
     "name": "stderr",
     "output_type": "stream",
     "text": [
      "ERROR:__main__:Error upserting data into Pinecone for PLTR: (400)\n",
      "Reason: Bad Request\n",
      "HTTP response headers: HTTPHeaderDict({'Date': 'Sat, 28 Sep 2024 14:06:24 GMT', 'Content-Type': 'application/json', 'Content-Length': '103', 'Connection': 'keep-alive', 'x-pinecone-request-latency-ms': '9459', 'x-pinecone-request-id': '2084202643579129291', 'x-envoy-upstream-service-time': '11', 'server': 'envoy'})\n",
      "HTTP response body: {\"code\":3,\"message\":\"Vector dimension 384 does not match the dimension of the index 4096\",\"details\":[]}\n",
      "\n",
      "INFO:__main__:Processed data saved to C:\\Users\\phamt\\Downloads\\Thesis_Project\\Processed_Dataset\\processed_PLTR.csv\n",
      "[*********************100%***********************]  1 of 1 completed\n",
      "INFO:__main__:Data for TSLA saved to C:\\Users\\phamt\\Downloads\\Thesis_Project\\Dataset\\TSLA.csv\n"
     ]
    },
    {
     "data": {
      "application/vnd.jupyter.widget-view+json": {
       "model_id": "59690ea814de49e0ab3326156222e145",
       "version_major": 2,
       "version_minor": 0
      },
      "text/plain": [
       "Batches:   0%|          | 0/40 [00:00<?, ?it/s]"
      ]
     },
     "metadata": {},
     "output_type": "display_data"
    },
    {
     "name": "stderr",
     "output_type": "stream",
     "text": [
      "ERROR:__main__:Error upserting data into Pinecone for TSLA: (400)\n",
      "Reason: Bad Request\n",
      "HTTP response headers: HTTPHeaderDict({'Date': 'Sat, 28 Sep 2024 14:07:33 GMT', 'Content-Type': 'application/json', 'Content-Length': '113', 'Connection': 'keep-alive', 'x-pinecone-request-latency-ms': '13343', 'x-pinecone-request-id': '4830269029372569654', 'x-envoy-upstream-service-time': '48', 'server': 'envoy'})\n",
      "HTTP response body: {\"code\":3,\"message\":\"Number of provided vectors: 1258 exceeds the maximum amount per request: 1000\",\"details\":[]}\n",
      "\n",
      "INFO:__main__:Processed data saved to C:\\Users\\phamt\\Downloads\\Thesis_Project\\Processed_Dataset\\processed_TSLA.csv\n",
      "[*********************100%***********************]  1 of 1 completed\n",
      "INFO:__main__:Data for AAPL saved to C:\\Users\\phamt\\Downloads\\Thesis_Project\\Dataset\\AAPL.csv\n"
     ]
    },
    {
     "data": {
      "application/vnd.jupyter.widget-view+json": {
       "model_id": "83d093a639e040f3bdee84bb8c42cb06",
       "version_major": 2,
       "version_minor": 0
      },
      "text/plain": [
       "Batches:   0%|          | 0/40 [00:00<?, ?it/s]"
      ]
     },
     "metadata": {},
     "output_type": "display_data"
    },
    {
     "name": "stderr",
     "output_type": "stream",
     "text": [
      "ERROR:__main__:Error upserting data into Pinecone for AAPL: (400)\n",
      "Reason: Bad Request\n",
      "HTTP response headers: HTTPHeaderDict({'Date': 'Sat, 28 Sep 2024 14:08:39 GMT', 'Content-Type': 'application/json', 'Content-Length': '113', 'Connection': 'keep-alive', 'x-pinecone-request-latency-ms': '6068', 'x-pinecone-request-id': '2334773317730097566', 'x-envoy-upstream-service-time': '15', 'server': 'envoy'})\n",
      "HTTP response body: {\"code\":3,\"message\":\"Number of provided vectors: 1258 exceeds the maximum amount per request: 1000\",\"details\":[]}\n",
      "\n",
      "INFO:__main__:Processed data saved to C:\\Users\\phamt\\Downloads\\Thesis_Project\\Processed_Dataset\\processed_AAPL.csv\n",
      "[*********************100%***********************]  1 of 1 completed\n",
      "INFO:__main__:Data for BBD saved to C:\\Users\\phamt\\Downloads\\Thesis_Project\\Dataset\\BBD.csv\n"
     ]
    },
    {
     "data": {
      "application/vnd.jupyter.widget-view+json": {
       "model_id": "7f62511edfa6442eba7c0fe960fd9822",
       "version_major": 2,
       "version_minor": 0
      },
      "text/plain": [
       "Batches:   0%|          | 0/40 [00:00<?, ?it/s]"
      ]
     },
     "metadata": {},
     "output_type": "display_data"
    },
    {
     "name": "stderr",
     "output_type": "stream",
     "text": [
      "ERROR:__main__:Error upserting data into Pinecone for BBD: (400)\n",
      "Reason: Bad Request\n",
      "HTTP response headers: HTTPHeaderDict({'Date': 'Sat, 28 Sep 2024 14:09:34 GMT', 'Content-Type': 'application/json', 'Content-Length': '113', 'Connection': 'keep-alive', 'x-pinecone-request-latency-ms': '8831', 'x-pinecone-request-id': '2411397466921437006', 'x-envoy-upstream-service-time': '15', 'server': 'envoy'})\n",
      "HTTP response body: {\"code\":3,\"message\":\"Number of provided vectors: 1258 exceeds the maximum amount per request: 1000\",\"details\":[]}\n",
      "\n",
      "INFO:__main__:Processed data saved to C:\\Users\\phamt\\Downloads\\Thesis_Project\\Processed_Dataset\\processed_BBD.csv\n",
      "[*********************100%***********************]  1 of 1 completed\n",
      "INFO:__main__:Data for T saved to C:\\Users\\phamt\\Downloads\\Thesis_Project\\Dataset\\T.csv\n"
     ]
    },
    {
     "data": {
      "application/vnd.jupyter.widget-view+json": {
       "model_id": "e8dfef5eac79419396242b3c3403d459",
       "version_major": 2,
       "version_minor": 0
      },
      "text/plain": [
       "Batches:   0%|          | 0/40 [00:00<?, ?it/s]"
      ]
     },
     "metadata": {},
     "output_type": "display_data"
    },
    {
     "name": "stderr",
     "output_type": "stream",
     "text": [
      "ERROR:__main__:Error upserting data into Pinecone for T: (400)\n",
      "Reason: Bad Request\n",
      "HTTP response headers: HTTPHeaderDict({'Date': 'Sat, 28 Sep 2024 14:10:27 GMT', 'Content-Type': 'application/json', 'Content-Length': '113', 'Connection': 'keep-alive', 'x-pinecone-request-latency-ms': '5152', 'x-pinecone-request-id': '6120069047892091392', 'x-envoy-upstream-service-time': '21', 'server': 'envoy'})\n",
      "HTTP response body: {\"code\":3,\"message\":\"Number of provided vectors: 1258 exceeds the maximum amount per request: 1000\",\"details\":[]}\n",
      "\n",
      "INFO:__main__:Processed data saved to C:\\Users\\phamt\\Downloads\\Thesis_Project\\Processed_Dataset\\processed_T.csv\n",
      "[*********************100%***********************]  1 of 1 completed\n",
      "INFO:__main__:Data for SOFI saved to C:\\Users\\phamt\\Downloads\\Thesis_Project\\Dataset\\SOFI.csv\n"
     ]
    },
    {
     "data": {
      "application/vnd.jupyter.widget-view+json": {
       "model_id": "0132d77cd08e4cd1b4908c9f8bde0dde",
       "version_major": 2,
       "version_minor": 0
      },
      "text/plain": [
       "Batches:   0%|          | 0/24 [00:00<?, ?it/s]"
      ]
     },
     "metadata": {},
     "output_type": "display_data"
    },
    {
     "name": "stderr",
     "output_type": "stream",
     "text": [
      "ERROR:__main__:Error upserting data into Pinecone for SOFI: (400)\n",
      "Reason: Bad Request\n",
      "HTTP response headers: HTTPHeaderDict({'Date': 'Sat, 28 Sep 2024 14:11:02 GMT', 'Content-Type': 'application/json', 'Content-Length': '103', 'Connection': 'keep-alive', 'x-pinecone-request-latency-ms': '3070', 'x-pinecone-request-id': '3575979581406521316', 'x-envoy-upstream-service-time': '9', 'server': 'envoy'})\n",
      "HTTP response body: {\"code\":3,\"message\":\"Vector dimension 384 does not match the dimension of the index 4096\",\"details\":[]}\n",
      "\n",
      "INFO:__main__:Processed data saved to C:\\Users\\phamt\\Downloads\\Thesis_Project\\Processed_Dataset\\processed_SOFI.csv\n",
      "[*********************100%***********************]  1 of 1 completed\n",
      "INFO:__main__:Data for WBD saved to C:\\Users\\phamt\\Downloads\\Thesis_Project\\Dataset\\WBD.csv\n"
     ]
    },
    {
     "data": {
      "application/vnd.jupyter.widget-view+json": {
       "model_id": "aa124daeed2b4c5a9c77de09f28bd792",
       "version_major": 2,
       "version_minor": 0
      },
      "text/plain": [
       "Batches:   0%|          | 0/40 [00:00<?, ?it/s]"
      ]
     },
     "metadata": {},
     "output_type": "display_data"
    },
    {
     "name": "stderr",
     "output_type": "stream",
     "text": [
      "ERROR:__main__:Error upserting data into Pinecone for WBD: (400)\n",
      "Reason: Bad Request\n",
      "HTTP response headers: HTTPHeaderDict({'Date': 'Sat, 28 Sep 2024 14:11:46 GMT', 'Content-Type': 'application/json', 'Content-Length': '113', 'Connection': 'keep-alive', 'x-pinecone-request-latency-ms': '11107', 'x-pinecone-request-id': '8277414878282222938', 'x-envoy-upstream-service-time': '48', 'server': 'envoy'})\n",
      "HTTP response body: {\"code\":3,\"message\":\"Number of provided vectors: 1258 exceeds the maximum amount per request: 1000\",\"details\":[]}\n",
      "\n",
      "INFO:__main__:Processed data saved to C:\\Users\\phamt\\Downloads\\Thesis_Project\\Processed_Dataset\\processed_WBD.csv\n",
      "[*********************100%***********************]  1 of 1 completed\n",
      "INFO:__main__:Data for SNAP saved to C:\\Users\\phamt\\Downloads\\Thesis_Project\\Dataset\\SNAP.csv\n"
     ]
    },
    {
     "data": {
      "application/vnd.jupyter.widget-view+json": {
       "model_id": "c03264ad15a743d4918ac627ade06273",
       "version_major": 2,
       "version_minor": 0
      },
      "text/plain": [
       "Batches:   0%|          | 0/40 [00:00<?, ?it/s]"
      ]
     },
     "metadata": {},
     "output_type": "display_data"
    },
    {
     "name": "stderr",
     "output_type": "stream",
     "text": [
      "ERROR:__main__:Error upserting data into Pinecone for SNAP: (400)\n",
      "Reason: Bad Request\n",
      "HTTP response headers: HTTPHeaderDict({'Date': 'Sat, 28 Sep 2024 14:12:12 GMT', 'Content-Type': 'application/json', 'Content-Length': '113', 'Connection': 'keep-alive', 'x-pinecone-request-latency-ms': '8387', 'x-pinecone-request-id': '1000328139728247812', 'x-envoy-upstream-service-time': '47', 'server': 'envoy'})\n",
      "HTTP response body: {\"code\":3,\"message\":\"Number of provided vectors: 1258 exceeds the maximum amount per request: 1000\",\"details\":[]}\n",
      "\n",
      "INFO:__main__:Processed data saved to C:\\Users\\phamt\\Downloads\\Thesis_Project\\Processed_Dataset\\processed_SNAP.csv\n",
      "[*********************100%***********************]  1 of 1 completed\n",
      "INFO:__main__:Data for NIO saved to C:\\Users\\phamt\\Downloads\\Thesis_Project\\Dataset\\NIO.csv\n"
     ]
    },
    {
     "data": {
      "application/vnd.jupyter.widget-view+json": {
       "model_id": "eb4d36b63db14e1bbf548c112b163c19",
       "version_major": 2,
       "version_minor": 0
      },
      "text/plain": [
       "Batches:   0%|          | 0/40 [00:00<?, ?it/s]"
      ]
     },
     "metadata": {},
     "output_type": "display_data"
    },
    {
     "name": "stderr",
     "output_type": "stream",
     "text": [
      "ERROR:__main__:Error upserting data into Pinecone for NIO: (400)\n",
      "Reason: Bad Request\n",
      "HTTP response headers: HTTPHeaderDict({'Date': 'Sat, 28 Sep 2024 14:13:17 GMT', 'Content-Type': 'application/json', 'Content-Length': '113', 'Connection': 'keep-alive', 'x-pinecone-request-latency-ms': '12989', 'x-pinecone-request-id': '8879799611888608330', 'x-envoy-upstream-service-time': '14', 'server': 'envoy'})\n",
      "HTTP response body: {\"code\":3,\"message\":\"Number of provided vectors: 1258 exceeds the maximum amount per request: 1000\",\"details\":[]}\n",
      "\n",
      "INFO:__main__:Processed data saved to C:\\Users\\phamt\\Downloads\\Thesis_Project\\Processed_Dataset\\processed_NIO.csv\n",
      "[*********************100%***********************]  1 of 1 completed\n",
      "INFO:__main__:Data for BTG saved to C:\\Users\\phamt\\Downloads\\Thesis_Project\\Dataset\\BTG.csv\n"
     ]
    },
    {
     "data": {
      "application/vnd.jupyter.widget-view+json": {
       "model_id": "ef707d736ef84c4a97b1fb72770ff256",
       "version_major": 2,
       "version_minor": 0
      },
      "text/plain": [
       "Batches:   0%|          | 0/40 [00:00<?, ?it/s]"
      ]
     },
     "metadata": {},
     "output_type": "display_data"
    },
    {
     "name": "stderr",
     "output_type": "stream",
     "text": [
      "ERROR:__main__:Error upserting data into Pinecone for BTG: (400)\n",
      "Reason: Bad Request\n",
      "HTTP response headers: HTTPHeaderDict({'Date': 'Sat, 28 Sep 2024 14:14:20 GMT', 'Content-Type': 'application/json', 'Content-Length': '113', 'Connection': 'keep-alive', 'x-pinecone-request-latency-ms': '4445', 'x-pinecone-request-id': '5720563632198584104', 'x-envoy-upstream-service-time': '16', 'server': 'envoy'})\n",
      "HTTP response body: {\"code\":3,\"message\":\"Number of provided vectors: 1258 exceeds the maximum amount per request: 1000\",\"details\":[]}\n",
      "\n",
      "INFO:__main__:Processed data saved to C:\\Users\\phamt\\Downloads\\Thesis_Project\\Processed_Dataset\\processed_BTG.csv\n",
      "[*********************100%***********************]  1 of 1 completed\n",
      "INFO:__main__:Data for F saved to C:\\Users\\phamt\\Downloads\\Thesis_Project\\Dataset\\F.csv\n"
     ]
    },
    {
     "data": {
      "application/vnd.jupyter.widget-view+json": {
       "model_id": "f62cb4bb39f742f4a10473405176c9cf",
       "version_major": 2,
       "version_minor": 0
      },
      "text/plain": [
       "Batches:   0%|          | 0/40 [00:00<?, ?it/s]"
      ]
     },
     "metadata": {},
     "output_type": "display_data"
    },
    {
     "name": "stderr",
     "output_type": "stream",
     "text": [
      "ERROR:__main__:Error upserting data into Pinecone for F: (400)\n",
      "Reason: Bad Request\n",
      "HTTP response headers: HTTPHeaderDict({'Date': 'Sat, 28 Sep 2024 14:15:22 GMT', 'Content-Type': 'application/json', 'Content-Length': '113', 'Connection': 'keep-alive', 'x-pinecone-request-latency-ms': '11583', 'x-pinecone-request-id': '4781649306132665881', 'x-envoy-upstream-service-time': '16', 'server': 'envoy'})\n",
      "HTTP response body: {\"code\":3,\"message\":\"Number of provided vectors: 1258 exceeds the maximum amount per request: 1000\",\"details\":[]}\n",
      "\n",
      "INFO:__main__:Processed data saved to C:\\Users\\phamt\\Downloads\\Thesis_Project\\Processed_Dataset\\processed_F.csv\n",
      "[*********************100%***********************]  1 of 1 completed\n",
      "INFO:__main__:Data for AAL saved to C:\\Users\\phamt\\Downloads\\Thesis_Project\\Dataset\\AAL.csv\n"
     ]
    },
    {
     "data": {
      "application/vnd.jupyter.widget-view+json": {
       "model_id": "c8b5ce587cd54d59b6e0d86140b740dc",
       "version_major": 2,
       "version_minor": 0
      },
      "text/plain": [
       "Batches:   0%|          | 0/40 [00:00<?, ?it/s]"
      ]
     },
     "metadata": {},
     "output_type": "display_data"
    },
    {
     "name": "stderr",
     "output_type": "stream",
     "text": [
      "ERROR:__main__:Error upserting data into Pinecone for AAL: (400)\n",
      "Reason: Bad Request\n",
      "HTTP response headers: HTTPHeaderDict({'Date': 'Sat, 28 Sep 2024 14:16:22 GMT', 'Content-Type': 'application/json', 'Content-Length': '113', 'Connection': 'keep-alive', 'x-pinecone-request-latency-ms': '14950', 'x-pinecone-request-id': '1067837779936844198', 'x-envoy-upstream-service-time': '14', 'server': 'envoy'})\n",
      "HTTP response body: {\"code\":3,\"message\":\"Number of provided vectors: 1258 exceeds the maximum amount per request: 1000\",\"details\":[]}\n",
      "\n",
      "INFO:__main__:Processed data saved to C:\\Users\\phamt\\Downloads\\Thesis_Project\\Processed_Dataset\\processed_AAL.csv\n",
      "[*********************100%***********************]  1 of 1 completed\n",
      "INFO:__main__:Data for NOK saved to C:\\Users\\phamt\\Downloads\\Thesis_Project\\Dataset\\NOK.csv\n"
     ]
    },
    {
     "data": {
      "application/vnd.jupyter.widget-view+json": {
       "model_id": "61e3493ba3064ec4816c82f45da8ef42",
       "version_major": 2,
       "version_minor": 0
      },
      "text/plain": [
       "Batches:   0%|          | 0/40 [00:00<?, ?it/s]"
      ]
     },
     "metadata": {},
     "output_type": "display_data"
    },
    {
     "name": "stderr",
     "output_type": "stream",
     "text": [
      "ERROR:__main__:Error upserting data into Pinecone for NOK: (400)\n",
      "Reason: Bad Request\n",
      "HTTP response headers: HTTPHeaderDict({'Date': 'Sat, 28 Sep 2024 14:17:14 GMT', 'Content-Type': 'application/json', 'Content-Length': '113', 'Connection': 'keep-alive', 'x-pinecone-request-latency-ms': '12090', 'x-pinecone-request-id': '5511505245465992379', 'x-envoy-upstream-service-time': '13', 'server': 'envoy'})\n",
      "HTTP response body: {\"code\":3,\"message\":\"Number of provided vectors: 1258 exceeds the maximum amount per request: 1000\",\"details\":[]}\n",
      "\n",
      "INFO:__main__:Processed data saved to C:\\Users\\phamt\\Downloads\\Thesis_Project\\Processed_Dataset\\processed_NOK.csv\n",
      "[*********************100%***********************]  1 of 1 completed\n",
      "INFO:__main__:Data for BAC saved to C:\\Users\\phamt\\Downloads\\Thesis_Project\\Dataset\\BAC.csv\n"
     ]
    },
    {
     "data": {
      "application/vnd.jupyter.widget-view+json": {
       "model_id": "b38a4ad7b0b349f7abc28e51305b7ae7",
       "version_major": 2,
       "version_minor": 0
      },
      "text/plain": [
       "Batches:   0%|          | 0/40 [00:00<?, ?it/s]"
      ]
     },
     "metadata": {},
     "output_type": "display_data"
    },
    {
     "name": "stderr",
     "output_type": "stream",
     "text": [
      "ERROR:__main__:Error upserting data into Pinecone for BAC: (400)\n",
      "Reason: Bad Request\n",
      "HTTP response headers: HTTPHeaderDict({'Date': 'Sat, 28 Sep 2024 14:18:02 GMT', 'Content-Type': 'application/json', 'Content-Length': '113', 'Connection': 'keep-alive', 'x-pinecone-request-latency-ms': '4108', 'x-pinecone-request-id': '6437512003493076168', 'x-envoy-upstream-service-time': '47', 'server': 'envoy'})\n",
      "HTTP response body: {\"code\":3,\"message\":\"Number of provided vectors: 1258 exceeds the maximum amount per request: 1000\",\"details\":[]}\n",
      "\n",
      "INFO:__main__:Processed data saved to C:\\Users\\phamt\\Downloads\\Thesis_Project\\Processed_Dataset\\processed_BAC.csv\n",
      "[*********************100%***********************]  1 of 1 completed\n",
      "INFO:__main__:Data for CCL saved to C:\\Users\\phamt\\Downloads\\Thesis_Project\\Dataset\\CCL.csv\n"
     ]
    },
    {
     "data": {
      "application/vnd.jupyter.widget-view+json": {
       "model_id": "acf8a2df20a84592ba246789d73db185",
       "version_major": 2,
       "version_minor": 0
      },
      "text/plain": [
       "Batches:   0%|          | 0/40 [00:00<?, ?it/s]"
      ]
     },
     "metadata": {},
     "output_type": "display_data"
    },
    {
     "name": "stderr",
     "output_type": "stream",
     "text": [
      "ERROR:__main__:Error upserting data into Pinecone for CCL: (400)\n",
      "Reason: Bad Request\n",
      "HTTP response headers: HTTPHeaderDict({'Date': 'Sat, 28 Sep 2024 14:18:48 GMT', 'Content-Type': 'application/json', 'Content-Length': '113', 'Connection': 'keep-alive', 'x-pinecone-request-latency-ms': '1413', 'x-pinecone-request-id': '951233165802959820', 'x-envoy-upstream-service-time': '56', 'server': 'envoy'})\n",
      "HTTP response body: {\"code\":3,\"message\":\"Number of provided vectors: 1258 exceeds the maximum amount per request: 1000\",\"details\":[]}\n",
      "\n",
      "INFO:__main__:Processed data saved to C:\\Users\\phamt\\Downloads\\Thesis_Project\\Processed_Dataset\\processed_CCL.csv\n",
      "[*********************100%***********************]  1 of 1 completed\n",
      "INFO:__main__:Data for ORCL saved to C:\\Users\\phamt\\Downloads\\Thesis_Project\\Dataset\\ORCL.csv\n"
     ]
    },
    {
     "data": {
      "application/vnd.jupyter.widget-view+json": {
       "model_id": "c4923fc601f74758a4044bd3dafb3788",
       "version_major": 2,
       "version_minor": 0
      },
      "text/plain": [
       "Batches:   0%|          | 0/40 [00:00<?, ?it/s]"
      ]
     },
     "metadata": {},
     "output_type": "display_data"
    },
    {
     "name": "stderr",
     "output_type": "stream",
     "text": [
      "ERROR:__main__:Error upserting data into Pinecone for ORCL: (400)\n",
      "Reason: Bad Request\n",
      "HTTP response headers: HTTPHeaderDict({'Date': 'Sat, 28 Sep 2024 14:19:34 GMT', 'Content-Type': 'application/json', 'Content-Length': '113', 'Connection': 'keep-alive', 'x-pinecone-request-latency-ms': '822', 'x-pinecone-request-id': '3039421190127497420', 'x-envoy-upstream-service-time': '16', 'server': 'envoy'})\n",
      "HTTP response body: {\"code\":3,\"message\":\"Number of provided vectors: 1258 exceeds the maximum amount per request: 1000\",\"details\":[]}\n",
      "\n",
      "INFO:__main__:Processed data saved to C:\\Users\\phamt\\Downloads\\Thesis_Project\\Processed_Dataset\\processed_ORCL.csv\n",
      "[*********************100%***********************]  1 of 1 completed\n",
      "INFO:__main__:Data for AMD saved to C:\\Users\\phamt\\Downloads\\Thesis_Project\\Dataset\\AMD.csv\n"
     ]
    },
    {
     "data": {
      "application/vnd.jupyter.widget-view+json": {
       "model_id": "ba218263339840059848e28af1cab770",
       "version_major": 2,
       "version_minor": 0
      },
      "text/plain": [
       "Batches:   0%|          | 0/40 [00:00<?, ?it/s]"
      ]
     },
     "metadata": {},
     "output_type": "display_data"
    },
    {
     "name": "stderr",
     "output_type": "stream",
     "text": [
      "ERROR:__main__:Error upserting data into Pinecone for AMD: (400)\n",
      "Reason: Bad Request\n",
      "HTTP response headers: HTTPHeaderDict({'Date': 'Sat, 28 Sep 2024 14:20:23 GMT', 'Content-Type': 'application/json', 'Content-Length': '113', 'Connection': 'keep-alive', 'x-pinecone-request-latency-ms': '1658', 'x-pinecone-request-id': '3763026273220344195', 'x-envoy-upstream-service-time': '16', 'server': 'envoy'})\n",
      "HTTP response body: {\"code\":3,\"message\":\"Number of provided vectors: 1258 exceeds the maximum amount per request: 1000\",\"details\":[]}\n",
      "\n",
      "INFO:__main__:Processed data saved to C:\\Users\\phamt\\Downloads\\Thesis_Project\\Processed_Dataset\\processed_AMD.csv\n",
      "[*********************100%***********************]  1 of 1 completed\n",
      "INFO:__main__:Data for PFE saved to C:\\Users\\phamt\\Downloads\\Thesis_Project\\Dataset\\PFE.csv\n"
     ]
    },
    {
     "data": {
      "application/vnd.jupyter.widget-view+json": {
       "model_id": "11606d14fe094ae1a8b6f9d0141c9403",
       "version_major": 2,
       "version_minor": 0
      },
      "text/plain": [
       "Batches:   0%|          | 0/40 [00:00<?, ?it/s]"
      ]
     },
     "metadata": {},
     "output_type": "display_data"
    },
    {
     "name": "stderr",
     "output_type": "stream",
     "text": [
      "ERROR:__main__:Error upserting data into Pinecone for PFE: (400)\n",
      "Reason: Bad Request\n",
      "HTTP response headers: HTTPHeaderDict({'Date': 'Sat, 28 Sep 2024 14:21:12 GMT', 'Content-Type': 'application/json', 'Content-Length': '113', 'Connection': 'keep-alive', 'x-pinecone-request-latency-ms': '1063', 'x-pinecone-request-id': '9080707784104311772', 'x-envoy-upstream-service-time': '14', 'server': 'envoy'})\n",
      "HTTP response body: {\"code\":3,\"message\":\"Number of provided vectors: 1258 exceeds the maximum amount per request: 1000\",\"details\":[]}\n",
      "\n",
      "INFO:__main__:Processed data saved to C:\\Users\\phamt\\Downloads\\Thesis_Project\\Processed_Dataset\\processed_PFE.csv\n",
      "[*********************100%***********************]  1 of 1 completed\n",
      "INFO:__main__:Data for KGC saved to C:\\Users\\phamt\\Downloads\\Thesis_Project\\Dataset\\KGC.csv\n"
     ]
    },
    {
     "data": {
      "application/vnd.jupyter.widget-view+json": {
       "model_id": "c36d7895d1c2439490a8241779731d15",
       "version_major": 2,
       "version_minor": 0
      },
      "text/plain": [
       "Batches:   0%|          | 0/40 [00:00<?, ?it/s]"
      ]
     },
     "metadata": {},
     "output_type": "display_data"
    },
    {
     "name": "stderr",
     "output_type": "stream",
     "text": [
      "ERROR:__main__:Error upserting data into Pinecone for KGC: (400)\n",
      "Reason: Bad Request\n",
      "HTTP response headers: HTTPHeaderDict({'Date': 'Sat, 28 Sep 2024 14:22:01 GMT', 'Content-Type': 'application/json', 'Content-Length': '113', 'Connection': 'keep-alive', 'x-pinecone-request-latency-ms': '1720', 'x-pinecone-request-id': '1130221909374505762', 'x-envoy-upstream-service-time': '15', 'server': 'envoy'})\n",
      "HTTP response body: {\"code\":3,\"message\":\"Number of provided vectors: 1258 exceeds the maximum amount per request: 1000\",\"details\":[]}\n",
      "\n",
      "INFO:__main__:Processed data saved to C:\\Users\\phamt\\Downloads\\Thesis_Project\\Processed_Dataset\\processed_KGC.csv\n",
      "[*********************100%***********************]  1 of 1 completed\n",
      "INFO:__main__:Data for MARA saved to C:\\Users\\phamt\\Downloads\\Thesis_Project\\Dataset\\MARA.csv\n"
     ]
    },
    {
     "data": {
      "application/vnd.jupyter.widget-view+json": {
       "model_id": "aa4b07f45c6e4afeacee8cf2808cd742",
       "version_major": 2,
       "version_minor": 0
      },
      "text/plain": [
       "Batches:   0%|          | 0/40 [00:00<?, ?it/s]"
      ]
     },
     "metadata": {},
     "output_type": "display_data"
    },
    {
     "name": "stderr",
     "output_type": "stream",
     "text": [
      "ERROR:__main__:Error upserting data into Pinecone for MARA: (400)\n",
      "Reason: Bad Request\n",
      "HTTP response headers: HTTPHeaderDict({'Date': 'Sat, 28 Sep 2024 14:22:50 GMT', 'Content-Type': 'application/json', 'Content-Length': '113', 'Connection': 'keep-alive', 'x-pinecone-request-latency-ms': '989', 'x-pinecone-request-id': '2676674163303560431', 'x-envoy-upstream-service-time': '16', 'server': 'envoy'})\n",
      "HTTP response body: {\"code\":3,\"message\":\"Number of provided vectors: 1258 exceeds the maximum amount per request: 1000\",\"details\":[]}\n",
      "\n",
      "INFO:__main__:Processed data saved to C:\\Users\\phamt\\Downloads\\Thesis_Project\\Processed_Dataset\\processed_MARA.csv\n",
      "[*********************100%***********************]  1 of 1 completed\n",
      "INFO:__main__:Data for SLB saved to C:\\Users\\phamt\\Downloads\\Thesis_Project\\Dataset\\SLB.csv\n"
     ]
    },
    {
     "data": {
      "application/vnd.jupyter.widget-view+json": {
       "model_id": "792cffe424d54eba84719d35a97d3114",
       "version_major": 2,
       "version_minor": 0
      },
      "text/plain": [
       "Batches:   0%|          | 0/40 [00:00<?, ?it/s]"
      ]
     },
     "metadata": {},
     "output_type": "display_data"
    },
    {
     "name": "stderr",
     "output_type": "stream",
     "text": [
      "ERROR:__main__:Error upserting data into Pinecone for SLB: (400)\n",
      "Reason: Bad Request\n",
      "HTTP response headers: HTTPHeaderDict({'Date': 'Sat, 28 Sep 2024 14:23:34 GMT', 'Content-Type': 'application/json', 'Content-Length': '113', 'Connection': 'keep-alive', 'x-pinecone-request-latency-ms': '781', 'x-pinecone-request-id': '8314016656579114576', 'x-envoy-upstream-service-time': '15', 'server': 'envoy'})\n",
      "HTTP response body: {\"code\":3,\"message\":\"Number of provided vectors: 1258 exceeds the maximum amount per request: 1000\",\"details\":[]}\n",
      "\n",
      "INFO:__main__:Processed data saved to C:\\Users\\phamt\\Downloads\\Thesis_Project\\Processed_Dataset\\processed_SLB.csv\n",
      "[*********************100%***********************]  1 of 1 completed\n",
      "INFO:__main__:Data for NU saved to C:\\Users\\phamt\\Downloads\\Thesis_Project\\Dataset\\NU.csv\n"
     ]
    },
    {
     "data": {
      "application/vnd.jupyter.widget-view+json": {
       "model_id": "589b4f1e7ce3402ba3720f4cdefe2087",
       "version_major": 2,
       "version_minor": 0
      },
      "text/plain": [
       "Batches:   0%|          | 0/17 [00:00<?, ?it/s]"
      ]
     },
     "metadata": {},
     "output_type": "display_data"
    },
    {
     "name": "stderr",
     "output_type": "stream",
     "text": [
      "ERROR:__main__:Error upserting data into Pinecone for NU: (400)\n",
      "Reason: Bad Request\n",
      "HTTP response headers: HTTPHeaderDict({'Date': 'Sat, 28 Sep 2024 14:23:51 GMT', 'Content-Type': 'application/json', 'Content-Length': '103', 'Connection': 'keep-alive', 'x-pinecone-request-latency-ms': '725', 'x-pinecone-request-id': '7173912581060105919', 'x-envoy-upstream-service-time': '46', 'server': 'envoy'})\n",
      "HTTP response body: {\"code\":3,\"message\":\"Vector dimension 384 does not match the dimension of the index 4096\",\"details\":[]}\n",
      "\n",
      "INFO:__main__:Processed data saved to C:\\Users\\phamt\\Downloads\\Thesis_Project\\Processed_Dataset\\processed_NU.csv\n",
      "[*********************100%***********************]  1 of 1 completed\n",
      "INFO:__main__:Data for MPW saved to C:\\Users\\phamt\\Downloads\\Thesis_Project\\Dataset\\MPW.csv\n"
     ]
    },
    {
     "data": {
      "application/vnd.jupyter.widget-view+json": {
       "model_id": "565cda56fbd14ee8917e5ae90ff9206a",
       "version_major": 2,
       "version_minor": 0
      },
      "text/plain": [
       "Batches:   0%|          | 0/40 [00:00<?, ?it/s]"
      ]
     },
     "metadata": {},
     "output_type": "display_data"
    },
    {
     "name": "stderr",
     "output_type": "stream",
     "text": [
      "ERROR:__main__:Error upserting data into Pinecone for MPW: (400)\n",
      "Reason: Bad Request\n",
      "HTTP response headers: HTTPHeaderDict({'Date': 'Sat, 28 Sep 2024 14:24:32 GMT', 'Content-Type': 'application/json', 'Content-Length': '113', 'Connection': 'keep-alive', 'x-pinecone-request-latency-ms': '975', 'x-pinecone-request-id': '1953886176658217721', 'x-envoy-upstream-service-time': '14', 'server': 'envoy'})\n",
      "HTTP response body: {\"code\":3,\"message\":\"Number of provided vectors: 1258 exceeds the maximum amount per request: 1000\",\"details\":[]}\n",
      "\n",
      "INFO:__main__:Processed data saved to C:\\Users\\phamt\\Downloads\\Thesis_Project\\Processed_Dataset\\processed_MPW.csv\n",
      "[*********************100%***********************]  1 of 1 completed\n",
      "INFO:__main__:Data for MU saved to C:\\Users\\phamt\\Downloads\\Thesis_Project\\Dataset\\MU.csv\n"
     ]
    },
    {
     "data": {
      "application/vnd.jupyter.widget-view+json": {
       "model_id": "270917b7f84b482b8abb2b34c5edb6b5",
       "version_major": 2,
       "version_minor": 0
      },
      "text/plain": [
       "Batches:   0%|          | 0/40 [00:00<?, ?it/s]"
      ]
     },
     "metadata": {},
     "output_type": "display_data"
    },
    {
     "name": "stderr",
     "output_type": "stream",
     "text": [
      "ERROR:__main__:Error upserting data into Pinecone for MU: (400)\n",
      "Reason: Bad Request\n",
      "HTTP response headers: HTTPHeaderDict({'Date': 'Sat, 28 Sep 2024 14:25:16 GMT', 'Content-Type': 'application/json', 'Content-Length': '113', 'Connection': 'keep-alive', 'x-pinecone-request-latency-ms': '775', 'x-pinecone-request-id': '7677753041223576713', 'x-envoy-upstream-service-time': '15', 'server': 'envoy'})\n",
      "HTTP response body: {\"code\":3,\"message\":\"Number of provided vectors: 1258 exceeds the maximum amount per request: 1000\",\"details\":[]}\n",
      "\n",
      "INFO:__main__:Processed data saved to C:\\Users\\phamt\\Downloads\\Thesis_Project\\Processed_Dataset\\processed_MU.csv\n",
      "[*********************100%***********************]  1 of 1 completed\n",
      "INFO:__main__:Data for LCID saved to C:\\Users\\phamt\\Downloads\\Thesis_Project\\Dataset\\LCID.csv\n"
     ]
    },
    {
     "data": {
      "application/vnd.jupyter.widget-view+json": {
       "model_id": "18e69f5131ce45a7a14bc473f675fc17",
       "version_major": 2,
       "version_minor": 0
      },
      "text/plain": [
       "Batches:   0%|          | 0/26 [00:00<?, ?it/s]"
      ]
     },
     "metadata": {},
     "output_type": "display_data"
    },
    {
     "name": "stderr",
     "output_type": "stream",
     "text": [
      "ERROR:__main__:Error upserting data into Pinecone for LCID: (400)\n",
      "Reason: Bad Request\n",
      "HTTP response headers: HTTPHeaderDict({'Date': 'Sat, 28 Sep 2024 14:25:41 GMT', 'Content-Type': 'application/json', 'Content-Length': '103', 'Connection': 'keep-alive', 'x-pinecone-request-latency-ms': '717', 'x-pinecone-request-id': '1121921884379789310', 'x-envoy-upstream-service-time': '11', 'server': 'envoy'})\n",
      "HTTP response body: {\"code\":3,\"message\":\"Vector dimension 384 does not match the dimension of the index 4096\",\"details\":[]}\n",
      "\n",
      "INFO:__main__:Processed data saved to C:\\Users\\phamt\\Downloads\\Thesis_Project\\Processed_Dataset\\processed_LCID.csv\n",
      "[*********************100%***********************]  1 of 1 completed\n",
      "INFO:__main__:Data for NCLH saved to C:\\Users\\phamt\\Downloads\\Thesis_Project\\Dataset\\NCLH.csv\n"
     ]
    },
    {
     "data": {
      "application/vnd.jupyter.widget-view+json": {
       "model_id": "a505b4482e1846ceb764480cdca7086b",
       "version_major": 2,
       "version_minor": 0
      },
      "text/plain": [
       "Batches:   0%|          | 0/40 [00:00<?, ?it/s]"
      ]
     },
     "metadata": {},
     "output_type": "display_data"
    },
    {
     "name": "stderr",
     "output_type": "stream",
     "text": [
      "ERROR:__main__:Error upserting data into Pinecone for NCLH: (400)\n",
      "Reason: Bad Request\n",
      "HTTP response headers: HTTPHeaderDict({'Date': 'Sat, 28 Sep 2024 14:26:22 GMT', 'Content-Type': 'application/json', 'Content-Length': '113', 'Connection': 'keep-alive', 'x-pinecone-request-latency-ms': '1033', 'x-pinecone-request-id': '5809782376567793110', 'x-envoy-upstream-service-time': '15', 'server': 'envoy'})\n",
      "HTTP response body: {\"code\":3,\"message\":\"Number of provided vectors: 1258 exceeds the maximum amount per request: 1000\",\"details\":[]}\n",
      "\n",
      "INFO:__main__:Processed data saved to C:\\Users\\phamt\\Downloads\\Thesis_Project\\Processed_Dataset\\processed_NCLH.csv\n",
      "[*********************100%***********************]  1 of 1 completed\n",
      "INFO:__main__:Data for RIG saved to C:\\Users\\phamt\\Downloads\\Thesis_Project\\Dataset\\RIG.csv\n"
     ]
    },
    {
     "data": {
      "application/vnd.jupyter.widget-view+json": {
       "model_id": "67cd26490e6349bcbffe20713813043d",
       "version_major": 2,
       "version_minor": 0
      },
      "text/plain": [
       "Batches:   0%|          | 0/40 [00:00<?, ?it/s]"
      ]
     },
     "metadata": {},
     "output_type": "display_data"
    },
    {
     "name": "stderr",
     "output_type": "stream",
     "text": [
      "ERROR:__main__:Error upserting data into Pinecone for RIG: (400)\n",
      "Reason: Bad Request\n",
      "HTTP response headers: HTTPHeaderDict({'Date': 'Sat, 28 Sep 2024 14:26:58 GMT', 'Content-Type': 'application/json', 'Content-Length': '113', 'Connection': 'keep-alive', 'x-pinecone-request-latency-ms': '814', 'x-pinecone-request-id': '1154757656508719879', 'x-envoy-upstream-service-time': '17', 'server': 'envoy'})\n",
      "HTTP response body: {\"code\":3,\"message\":\"Number of provided vectors: 1258 exceeds the maximum amount per request: 1000\",\"details\":[]}\n",
      "\n",
      "INFO:__main__:Processed data saved to C:\\Users\\phamt\\Downloads\\Thesis_Project\\Processed_Dataset\\processed_RIG.csv\n",
      "[*********************100%***********************]  1 of 1 completed\n",
      "INFO:__main__:Data for AMZN saved to C:\\Users\\phamt\\Downloads\\Thesis_Project\\Dataset\\AMZN.csv\n"
     ]
    },
    {
     "data": {
      "application/vnd.jupyter.widget-view+json": {
       "model_id": "4569e5249e6a483bb8a0dc3812dfe39e",
       "version_major": 2,
       "version_minor": 0
      },
      "text/plain": [
       "Batches:   0%|          | 0/40 [00:00<?, ?it/s]"
      ]
     },
     "metadata": {},
     "output_type": "display_data"
    },
    {
     "name": "stderr",
     "output_type": "stream",
     "text": [
      "ERROR:__main__:Error upserting data into Pinecone for AMZN: (400)\n",
      "Reason: Bad Request\n",
      "HTTP response headers: HTTPHeaderDict({'Date': 'Sat, 28 Sep 2024 14:27:27 GMT', 'Content-Type': 'application/json', 'Content-Length': '113', 'Connection': 'keep-alive', 'x-pinecone-request-latency-ms': '718', 'x-pinecone-request-id': '6387277276773350221', 'x-envoy-upstream-service-time': '16', 'server': 'envoy'})\n",
      "HTTP response body: {\"code\":3,\"message\":\"Number of provided vectors: 1258 exceeds the maximum amount per request: 1000\",\"details\":[]}\n",
      "\n",
      "INFO:__main__:Processed data saved to C:\\Users\\phamt\\Downloads\\Thesis_Project\\Processed_Dataset\\processed_AMZN.csv\n",
      "[*********************100%***********************]  1 of 1 completed\n",
      "INFO:__main__:Data for ABEV saved to C:\\Users\\phamt\\Downloads\\Thesis_Project\\Dataset\\ABEV.csv\n"
     ]
    },
    {
     "data": {
      "application/vnd.jupyter.widget-view+json": {
       "model_id": "1e2a5da50bf1414d94b0c5829f51f76b",
       "version_major": 2,
       "version_minor": 0
      },
      "text/plain": [
       "Batches:   0%|          | 0/40 [00:00<?, ?it/s]"
      ]
     },
     "metadata": {},
     "output_type": "display_data"
    },
    {
     "name": "stderr",
     "output_type": "stream",
     "text": [
      "ERROR:__main__:Error upserting data into Pinecone for ABEV: (400)\n",
      "Reason: Bad Request\n",
      "HTTP response headers: HTTPHeaderDict({'Date': 'Sat, 28 Sep 2024 14:28:04 GMT', 'Content-Type': 'application/json', 'Content-Length': '113', 'Connection': 'keep-alive', 'x-pinecone-request-latency-ms': '781', 'x-pinecone-request-id': '5585025432067622097', 'x-envoy-upstream-service-time': '15', 'server': 'envoy'})\n",
      "HTTP response body: {\"code\":3,\"message\":\"Number of provided vectors: 1258 exceeds the maximum amount per request: 1000\",\"details\":[]}\n",
      "\n",
      "INFO:__main__:Processed data saved to C:\\Users\\phamt\\Downloads\\Thesis_Project\\Processed_Dataset\\processed_ABEV.csv\n",
      "[*********************100%***********************]  1 of 1 completed\n",
      "INFO:__main__:Data for U saved to C:\\Users\\phamt\\Downloads\\Thesis_Project\\Dataset\\U.csv\n"
     ]
    },
    {
     "data": {
      "application/vnd.jupyter.widget-view+json": {
       "model_id": "d8cd3feb5fe542a8ab6e67843493e8cc",
       "version_major": 2,
       "version_minor": 0
      },
      "text/plain": [
       "Batches:   0%|          | 0/26 [00:00<?, ?it/s]"
      ]
     },
     "metadata": {},
     "output_type": "display_data"
    },
    {
     "name": "stderr",
     "output_type": "stream",
     "text": [
      "ERROR:__main__:Error upserting data into Pinecone for U: (400)\n",
      "Reason: Bad Request\n",
      "HTTP response headers: HTTPHeaderDict({'Date': 'Sat, 28 Sep 2024 14:28:23 GMT', 'Content-Type': 'application/json', 'Content-Length': '103', 'Connection': 'keep-alive', 'x-pinecone-request-latency-ms': '444', 'x-pinecone-request-id': '1618184528185362859', 'x-envoy-upstream-service-time': '11', 'server': 'envoy'})\n",
      "HTTP response body: {\"code\":3,\"message\":\"Vector dimension 384 does not match the dimension of the index 4096\",\"details\":[]}\n",
      "\n",
      "INFO:__main__:Processed data saved to C:\\Users\\phamt\\Downloads\\Thesis_Project\\Processed_Dataset\\processed_U.csv\n",
      "[*********************100%***********************]  1 of 1 completed\n",
      "INFO:__main__:Data for LUMN saved to C:\\Users\\phamt\\Downloads\\Thesis_Project\\Dataset\\LUMN.csv\n"
     ]
    },
    {
     "data": {
      "application/vnd.jupyter.widget-view+json": {
       "model_id": "0ebea3a2ac5344f3b459d23da9130ef4",
       "version_major": 2,
       "version_minor": 0
      },
      "text/plain": [
       "Batches:   0%|          | 0/40 [00:00<?, ?it/s]"
      ]
     },
     "metadata": {},
     "output_type": "display_data"
    },
    {
     "name": "stderr",
     "output_type": "stream",
     "text": [
      "ERROR:__main__:Error upserting data into Pinecone for LUMN: (400)\n",
      "Reason: Bad Request\n",
      "HTTP response headers: HTTPHeaderDict({'Date': 'Sat, 28 Sep 2024 14:28:54 GMT', 'Content-Type': 'application/json', 'Content-Length': '113', 'Connection': 'keep-alive', 'x-pinecone-request-latency-ms': '728', 'x-pinecone-request-id': '5677278336189145862', 'x-envoy-upstream-service-time': '14', 'server': 'envoy'})\n",
      "HTTP response body: {\"code\":3,\"message\":\"Number of provided vectors: 1258 exceeds the maximum amount per request: 1000\",\"details\":[]}\n",
      "\n",
      "INFO:__main__:Processed data saved to C:\\Users\\phamt\\Downloads\\Thesis_Project\\Processed_Dataset\\processed_LUMN.csv\n",
      "[*********************100%***********************]  1 of 1 completed\n",
      "INFO:__main__:Data for AGNC saved to C:\\Users\\phamt\\Downloads\\Thesis_Project\\Dataset\\AGNC.csv\n"
     ]
    },
    {
     "data": {
      "application/vnd.jupyter.widget-view+json": {
       "model_id": "e1449709f76c41ecab64f1aef034591e",
       "version_major": 2,
       "version_minor": 0
      },
      "text/plain": [
       "Batches:   0%|          | 0/40 [00:00<?, ?it/s]"
      ]
     },
     "metadata": {},
     "output_type": "display_data"
    },
    {
     "name": "stderr",
     "output_type": "stream",
     "text": [
      "ERROR:__main__:Error upserting data into Pinecone for AGNC: (400)\n",
      "Reason: Bad Request\n",
      "HTTP response headers: HTTPHeaderDict({'Date': 'Sat, 28 Sep 2024 14:29:30 GMT', 'Content-Type': 'application/json', 'Content-Length': '113', 'Connection': 'keep-alive', 'x-pinecone-request-latency-ms': '777', 'x-pinecone-request-id': '1467496457809126043', 'x-envoy-upstream-service-time': '53', 'server': 'envoy'})\n",
      "HTTP response body: {\"code\":3,\"message\":\"Number of provided vectors: 1258 exceeds the maximum amount per request: 1000\",\"details\":[]}\n",
      "\n",
      "INFO:__main__:Processed data saved to C:\\Users\\phamt\\Downloads\\Thesis_Project\\Processed_Dataset\\processed_AGNC.csv\n",
      "[*********************100%***********************]  1 of 1 completed\n",
      "INFO:__main__:Data for VZ saved to C:\\Users\\phamt\\Downloads\\Thesis_Project\\Dataset\\VZ.csv\n"
     ]
    },
    {
     "data": {
      "application/vnd.jupyter.widget-view+json": {
       "model_id": "d33fc304d2574f019c1f5b8e493c5b06",
       "version_major": 2,
       "version_minor": 0
      },
      "text/plain": [
       "Batches:   0%|          | 0/40 [00:00<?, ?it/s]"
      ]
     },
     "metadata": {},
     "output_type": "display_data"
    },
    {
     "name": "stderr",
     "output_type": "stream",
     "text": [
      "ERROR:__main__:Error upserting data into Pinecone for VZ: (400)\n",
      "Reason: Bad Request\n",
      "HTTP response headers: HTTPHeaderDict({'Date': 'Sat, 28 Sep 2024 14:30:00 GMT', 'Content-Type': 'application/json', 'Content-Length': '113', 'Connection': 'keep-alive', 'x-pinecone-request-latency-ms': '742', 'x-pinecone-request-id': '8915279512666992885', 'x-envoy-upstream-service-time': '14', 'server': 'envoy'})\n",
      "HTTP response body: {\"code\":3,\"message\":\"Number of provided vectors: 1258 exceeds the maximum amount per request: 1000\",\"details\":[]}\n",
      "\n",
      "INFO:__main__:Processed data saved to C:\\Users\\phamt\\Downloads\\Thesis_Project\\Processed_Dataset\\processed_VZ.csv\n",
      "[*********************100%***********************]  1 of 1 completed\n",
      "INFO:__main__:Data for WBA saved to C:\\Users\\phamt\\Downloads\\Thesis_Project\\Dataset\\WBA.csv\n"
     ]
    },
    {
     "data": {
      "application/vnd.jupyter.widget-view+json": {
       "model_id": "177d8ce72b2648e0b31fc94398370752",
       "version_major": 2,
       "version_minor": 0
      },
      "text/plain": [
       "Batches:   0%|          | 0/40 [00:00<?, ?it/s]"
      ]
     },
     "metadata": {},
     "output_type": "display_data"
    },
    {
     "name": "stderr",
     "output_type": "stream",
     "text": [
      "ERROR:__main__:Error upserting data into Pinecone for WBA: (400)\n",
      "Reason: Bad Request\n",
      "HTTP response headers: HTTPHeaderDict({'Date': 'Sat, 28 Sep 2024 14:30:32 GMT', 'Content-Type': 'application/json', 'Content-Length': '113', 'Connection': 'keep-alive', 'x-pinecone-request-latency-ms': '741', 'x-pinecone-request-id': '5842849373499736034', 'x-envoy-upstream-service-time': '15', 'server': 'envoy'})\n",
      "HTTP response body: {\"code\":3,\"message\":\"Number of provided vectors: 1258 exceeds the maximum amount per request: 1000\",\"details\":[]}\n",
      "\n",
      "INFO:__main__:Processed data saved to C:\\Users\\phamt\\Downloads\\Thesis_Project\\Processed_Dataset\\processed_WBA.csv\n",
      "[*********************100%***********************]  1 of 1 completed\n",
      "INFO:__main__:Data for WFC saved to C:\\Users\\phamt\\Downloads\\Thesis_Project\\Dataset\\WFC.csv\n"
     ]
    },
    {
     "data": {
      "application/vnd.jupyter.widget-view+json": {
       "model_id": "790bb39757fa4102850e885f77cc0a87",
       "version_major": 2,
       "version_minor": 0
      },
      "text/plain": [
       "Batches:   0%|          | 0/40 [00:00<?, ?it/s]"
      ]
     },
     "metadata": {},
     "output_type": "display_data"
    },
    {
     "name": "stderr",
     "output_type": "stream",
     "text": [
      "ERROR:__main__:Error upserting data into Pinecone for WFC: (400)\n",
      "Reason: Bad Request\n",
      "HTTP response headers: HTTPHeaderDict({'Date': 'Sat, 28 Sep 2024 14:31:06 GMT', 'Content-Type': 'application/json', 'Content-Length': '113', 'Connection': 'keep-alive', 'x-pinecone-request-latency-ms': '1329', 'x-pinecone-request-id': '7002754735437390617', 'x-envoy-upstream-service-time': '16', 'server': 'envoy'})\n",
      "HTTP response body: {\"code\":3,\"message\":\"Number of provided vectors: 1258 exceeds the maximum amount per request: 1000\",\"details\":[]}\n",
      "\n",
      "INFO:__main__:Processed data saved to C:\\Users\\phamt\\Downloads\\Thesis_Project\\Processed_Dataset\\processed_WFC.csv\n",
      "[*********************100%***********************]  1 of 1 completed\n",
      "INFO:__main__:Data for RIVN saved to C:\\Users\\phamt\\Downloads\\Thesis_Project\\Dataset\\RIVN.csv\n"
     ]
    },
    {
     "data": {
      "application/vnd.jupyter.widget-view+json": {
       "model_id": "4c8a752d971146f499b68633ca659dda",
       "version_major": 2,
       "version_minor": 0
      },
      "text/plain": [
       "Batches:   0%|          | 0/17 [00:00<?, ?it/s]"
      ]
     },
     "metadata": {},
     "output_type": "display_data"
    },
    {
     "name": "stderr",
     "output_type": "stream",
     "text": [
      "ERROR:__main__:Error upserting data into Pinecone for RIVN: (400)\n",
      "Reason: Bad Request\n",
      "HTTP response headers: HTTPHeaderDict({'Date': 'Sat, 28 Sep 2024 14:31:21 GMT', 'Content-Type': 'application/json', 'Content-Length': '103', 'Connection': 'keep-alive', 'x-pinecone-request-latency-ms': '434', 'x-pinecone-request-id': '5993593899924462403', 'x-envoy-upstream-service-time': '8', 'server': 'envoy'})\n",
      "HTTP response body: {\"code\":3,\"message\":\"Vector dimension 384 does not match the dimension of the index 4096\",\"details\":[]}\n",
      "\n",
      "INFO:__main__:Processed data saved to C:\\Users\\phamt\\Downloads\\Thesis_Project\\Processed_Dataset\\processed_RIVN.csv\n",
      "[*********************100%***********************]  1 of 1 completed\n",
      "INFO:__main__:Data for UPST saved to C:\\Users\\phamt\\Downloads\\Thesis_Project\\Dataset\\UPST.csv\n"
     ]
    },
    {
     "data": {
      "application/vnd.jupyter.widget-view+json": {
       "model_id": "d4c17d9d635348c89c57ddde21b86da1",
       "version_major": 2,
       "version_minor": 0
      },
      "text/plain": [
       "Batches:   0%|          | 0/24 [00:00<?, ?it/s]"
      ]
     },
     "metadata": {},
     "output_type": "display_data"
    },
    {
     "name": "stderr",
     "output_type": "stream",
     "text": [
      "ERROR:__main__:Error upserting data into Pinecone for UPST: (400)\n",
      "Reason: Bad Request\n",
      "HTTP response headers: HTTPHeaderDict({'Date': 'Sat, 28 Sep 2024 14:31:44 GMT', 'Content-Type': 'application/json', 'Content-Length': '103', 'Connection': 'keep-alive', 'x-pinecone-request-latency-ms': '3829', 'x-pinecone-request-id': '2212059255630031152', 'x-envoy-upstream-service-time': '9', 'server': 'envoy'})\n",
      "HTTP response body: {\"code\":3,\"message\":\"Vector dimension 384 does not match the dimension of the index 4096\",\"details\":[]}\n",
      "\n",
      "INFO:__main__:Processed data saved to C:\\Users\\phamt\\Downloads\\Thesis_Project\\Processed_Dataset\\processed_UPST.csv\n",
      "[*********************100%***********************]  1 of 1 completed\n",
      "INFO:__main__:Data for GRAB saved to C:\\Users\\phamt\\Downloads\\Thesis_Project\\Dataset\\GRAB.csv\n"
     ]
    },
    {
     "data": {
      "application/vnd.jupyter.widget-view+json": {
       "model_id": "41359c6a02b34b4ea06ee0458122743d",
       "version_major": 2,
       "version_minor": 0
      },
      "text/plain": [
       "Batches:   0%|          | 0/25 [00:00<?, ?it/s]"
      ]
     },
     "metadata": {},
     "output_type": "display_data"
    },
    {
     "name": "stderr",
     "output_type": "stream",
     "text": [
      "ERROR:__main__:Error upserting data into Pinecone for GRAB: (400)\n",
      "Reason: Bad Request\n",
      "HTTP response headers: HTTPHeaderDict({'Date': 'Sat, 28 Sep 2024 14:32:10 GMT', 'Content-Type': 'application/json', 'Content-Length': '103', 'Connection': 'keep-alive', 'x-pinecone-request-latency-ms': '698', 'x-pinecone-request-id': '7583125819110740937', 'x-envoy-upstream-service-time': '10', 'server': 'envoy'})\n",
      "HTTP response body: {\"code\":3,\"message\":\"Vector dimension 384 does not match the dimension of the index 4096\",\"details\":[]}\n",
      "\n",
      "INFO:__main__:Processed data saved to C:\\Users\\phamt\\Downloads\\Thesis_Project\\Processed_Dataset\\processed_GRAB.csv\n",
      "[*********************100%***********************]  1 of 1 completed\n",
      "INFO:__main__:Data for CSCO saved to C:\\Users\\phamt\\Downloads\\Thesis_Project\\Dataset\\CSCO.csv\n"
     ]
    },
    {
     "data": {
      "application/vnd.jupyter.widget-view+json": {
       "model_id": "97bc3f51af9f4deebd133ce23de0b230",
       "version_major": 2,
       "version_minor": 0
      },
      "text/plain": [
       "Batches:   0%|          | 0/40 [00:00<?, ?it/s]"
      ]
     },
     "metadata": {},
     "output_type": "display_data"
    },
    {
     "name": "stderr",
     "output_type": "stream",
     "text": [
      "ERROR:__main__:Error upserting data into Pinecone for CSCO: (400)\n",
      "Reason: Bad Request\n",
      "HTTP response headers: HTTPHeaderDict({'Date': 'Sat, 28 Sep 2024 14:32:43 GMT', 'Content-Type': 'application/json', 'Content-Length': '113', 'Connection': 'keep-alive', 'x-pinecone-request-latency-ms': '790', 'x-pinecone-request-id': '1716787752367750427', 'x-envoy-upstream-service-time': '16', 'server': 'envoy'})\n",
      "HTTP response body: {\"code\":3,\"message\":\"Number of provided vectors: 1258 exceeds the maximum amount per request: 1000\",\"details\":[]}\n",
      "\n",
      "INFO:__main__:Processed data saved to C:\\Users\\phamt\\Downloads\\Thesis_Project\\Processed_Dataset\\processed_CSCO.csv\n",
      "[*********************100%***********************]  1 of 1 completed\n",
      "INFO:__main__:Data for VALE saved to C:\\Users\\phamt\\Downloads\\Thesis_Project\\Dataset\\VALE.csv\n"
     ]
    },
    {
     "data": {
      "application/vnd.jupyter.widget-view+json": {
       "model_id": "dd3435f573e341468e8a774edb80795a",
       "version_major": 2,
       "version_minor": 0
      },
      "text/plain": [
       "Batches:   0%|          | 0/40 [00:00<?, ?it/s]"
      ]
     },
     "metadata": {},
     "output_type": "display_data"
    },
    {
     "name": "stderr",
     "output_type": "stream",
     "text": [
      "ERROR:__main__:Error upserting data into Pinecone for VALE: (400)\n",
      "Reason: Bad Request\n",
      "HTTP response headers: HTTPHeaderDict({'Date': 'Sat, 28 Sep 2024 14:33:14 GMT', 'Content-Type': 'application/json', 'Content-Length': '113', 'Connection': 'keep-alive', 'x-pinecone-request-latency-ms': '1371', 'x-pinecone-request-id': '1747410353101233766', 'x-envoy-upstream-service-time': '16', 'server': 'envoy'})\n",
      "HTTP response body: {\"code\":3,\"message\":\"Number of provided vectors: 1258 exceeds the maximum amount per request: 1000\",\"details\":[]}\n",
      "\n",
      "INFO:__main__:Processed data saved to C:\\Users\\phamt\\Downloads\\Thesis_Project\\Processed_Dataset\\processed_VALE.csv\n",
      "[*********************100%***********************]  1 of 1 completed\n",
      "INFO:__main__:Data for AVGO saved to C:\\Users\\phamt\\Downloads\\Thesis_Project\\Dataset\\AVGO.csv\n"
     ]
    },
    {
     "data": {
      "application/vnd.jupyter.widget-view+json": {
       "model_id": "bde2390e82e64720829c088945a4b298",
       "version_major": 2,
       "version_minor": 0
      },
      "text/plain": [
       "Batches:   0%|          | 0/40 [00:00<?, ?it/s]"
      ]
     },
     "metadata": {},
     "output_type": "display_data"
    },
    {
     "name": "stderr",
     "output_type": "stream",
     "text": [
      "ERROR:__main__:Error upserting data into Pinecone for AVGO: (400)\n",
      "Reason: Bad Request\n",
      "HTTP response headers: HTTPHeaderDict({'Date': 'Sat, 28 Sep 2024 14:33:46 GMT', 'Content-Type': 'application/json', 'Content-Length': '113', 'Connection': 'keep-alive', 'x-pinecone-request-latency-ms': '951', 'x-pinecone-request-id': '5798785572092087265', 'x-envoy-upstream-service-time': '16', 'server': 'envoy'})\n",
      "HTTP response body: {\"code\":3,\"message\":\"Number of provided vectors: 1258 exceeds the maximum amount per request: 1000\",\"details\":[]}\n",
      "\n",
      "INFO:__main__:Processed data saved to C:\\Users\\phamt\\Downloads\\Thesis_Project\\Processed_Dataset\\processed_AVGO.csv\n",
      "[*********************100%***********************]  1 of 1 completed\n",
      "INFO:__main__:Data for PBR saved to C:\\Users\\phamt\\Downloads\\Thesis_Project\\Dataset\\PBR.csv\n"
     ]
    },
    {
     "data": {
      "application/vnd.jupyter.widget-view+json": {
       "model_id": "85fcc6d8a28443a9bceeb3fa846b06aa",
       "version_major": 2,
       "version_minor": 0
      },
      "text/plain": [
       "Batches:   0%|          | 0/40 [00:00<?, ?it/s]"
      ]
     },
     "metadata": {},
     "output_type": "display_data"
    },
    {
     "name": "stderr",
     "output_type": "stream",
     "text": [
      "ERROR:__main__:Error upserting data into Pinecone for PBR: (400)\n",
      "Reason: Bad Request\n",
      "HTTP response headers: HTTPHeaderDict({'Date': 'Sat, 28 Sep 2024 14:34:20 GMT', 'Content-Type': 'application/json', 'Content-Length': '113', 'Connection': 'keep-alive', 'x-pinecone-request-latency-ms': '801', 'x-pinecone-request-id': '316429023691909988', 'x-envoy-upstream-service-time': '47', 'server': 'envoy'})\n",
      "HTTP response body: {\"code\":3,\"message\":\"Number of provided vectors: 1258 exceeds the maximum amount per request: 1000\",\"details\":[]}\n",
      "\n",
      "INFO:__main__:Processed data saved to C:\\Users\\phamt\\Downloads\\Thesis_Project\\Processed_Dataset\\processed_PBR.csv\n",
      "[*********************100%***********************]  1 of 1 completed\n",
      "INFO:__main__:Data for GOOGL saved to C:\\Users\\phamt\\Downloads\\Thesis_Project\\Dataset\\GOOGL.csv\n"
     ]
    },
    {
     "data": {
      "application/vnd.jupyter.widget-view+json": {
       "model_id": "b6c8c281dc4c496b977ad311e8805f89",
       "version_major": 2,
       "version_minor": 0
      },
      "text/plain": [
       "Batches:   0%|          | 0/40 [00:00<?, ?it/s]"
      ]
     },
     "metadata": {},
     "output_type": "display_data"
    },
    {
     "name": "stderr",
     "output_type": "stream",
     "text": [
      "ERROR:__main__:Error upserting data into Pinecone for GOOGL: (400)\n",
      "Reason: Bad Request\n",
      "HTTP response headers: HTTPHeaderDict({'Date': 'Sat, 28 Sep 2024 14:34:54 GMT', 'Content-Type': 'application/json', 'Content-Length': '113', 'Connection': 'keep-alive', 'x-pinecone-request-latency-ms': '772', 'x-pinecone-request-id': '8473701436434906460', 'x-envoy-upstream-service-time': '20', 'server': 'envoy'})\n",
      "HTTP response body: {\"code\":3,\"message\":\"Number of provided vectors: 1258 exceeds the maximum amount per request: 1000\",\"details\":[]}\n",
      "\n",
      "INFO:__main__:Processed data saved to C:\\Users\\phamt\\Downloads\\Thesis_Project\\Processed_Dataset\\processed_GOOGL.csv\n",
      "[*********************100%***********************]  1 of 1 completed\n",
      "INFO:__main__:Data for SMMT saved to C:\\Users\\phamt\\Downloads\\Thesis_Project\\Dataset\\SMMT.csv\n"
     ]
    },
    {
     "data": {
      "application/vnd.jupyter.widget-view+json": {
       "model_id": "0610eed49d154e4bb2b67ece920282c6",
       "version_major": 2,
       "version_minor": 0
      },
      "text/plain": [
       "Batches:   0%|          | 0/40 [00:00<?, ?it/s]"
      ]
     },
     "metadata": {},
     "output_type": "display_data"
    },
    {
     "name": "stderr",
     "output_type": "stream",
     "text": [
      "ERROR:__main__:Error upserting data into Pinecone for SMMT: (400)\n",
      "Reason: Bad Request\n",
      "HTTP response headers: HTTPHeaderDict({'Date': 'Sat, 28 Sep 2024 14:35:27 GMT', 'Content-Type': 'application/json', 'Content-Length': '113', 'Connection': 'keep-alive', 'x-pinecone-request-latency-ms': '766', 'x-pinecone-request-id': '1378403877073937690', 'x-envoy-upstream-service-time': '14', 'server': 'envoy'})\n",
      "HTTP response body: {\"code\":3,\"message\":\"Number of provided vectors: 1258 exceeds the maximum amount per request: 1000\",\"details\":[]}\n",
      "\n",
      "INFO:__main__:Processed data saved to C:\\Users\\phamt\\Downloads\\Thesis_Project\\Processed_Dataset\\processed_SMMT.csv\n",
      "[*********************100%***********************]  1 of 1 completed\n",
      "INFO:__main__:Data for GOLD saved to C:\\Users\\phamt\\Downloads\\Thesis_Project\\Dataset\\GOLD.csv\n"
     ]
    },
    {
     "data": {
      "application/vnd.jupyter.widget-view+json": {
       "model_id": "c887ea846d9f4d8e9b3ea0e712ca4abe",
       "version_major": 2,
       "version_minor": 0
      },
      "text/plain": [
       "Batches:   0%|          | 0/40 [00:00<?, ?it/s]"
      ]
     },
     "metadata": {},
     "output_type": "display_data"
    },
    {
     "name": "stderr",
     "output_type": "stream",
     "text": [
      "ERROR:__main__:Error upserting data into Pinecone for GOLD: (400)\n",
      "Reason: Bad Request\n",
      "HTTP response headers: HTTPHeaderDict({'Date': 'Sat, 28 Sep 2024 14:35:57 GMT', 'Content-Type': 'application/json', 'Content-Length': '113', 'Connection': 'keep-alive', 'x-pinecone-request-latency-ms': '778', 'x-pinecone-request-id': '8451977708744447819', 'x-envoy-upstream-service-time': '14', 'server': 'envoy'})\n",
      "HTTP response body: {\"code\":3,\"message\":\"Number of provided vectors: 1258 exceeds the maximum amount per request: 1000\",\"details\":[]}\n",
      "\n",
      "INFO:__main__:Processed data saved to C:\\Users\\phamt\\Downloads\\Thesis_Project\\Processed_Dataset\\processed_GOLD.csv\n",
      "[*********************100%***********************]  1 of 1 completed\n",
      "INFO:__main__:Data for CMG saved to C:\\Users\\phamt\\Downloads\\Thesis_Project\\Dataset\\CMG.csv\n"
     ]
    },
    {
     "data": {
      "application/vnd.jupyter.widget-view+json": {
       "model_id": "39ca25b544844c6f99b0f3d80b6e27fc",
       "version_major": 2,
       "version_minor": 0
      },
      "text/plain": [
       "Batches:   0%|          | 0/40 [00:00<?, ?it/s]"
      ]
     },
     "metadata": {},
     "output_type": "display_data"
    },
    {
     "name": "stderr",
     "output_type": "stream",
     "text": [
      "ERROR:__main__:Error upserting data into Pinecone for CMG: (400)\n",
      "Reason: Bad Request\n",
      "HTTP response headers: HTTPHeaderDict({'Date': 'Sat, 28 Sep 2024 14:36:29 GMT', 'Content-Type': 'application/json', 'Content-Length': '113', 'Connection': 'keep-alive', 'x-pinecone-request-latency-ms': '763', 'x-pinecone-request-id': '8220050840944410578', 'x-envoy-upstream-service-time': '14', 'server': 'envoy'})\n",
      "HTTP response body: {\"code\":3,\"message\":\"Number of provided vectors: 1258 exceeds the maximum amount per request: 1000\",\"details\":[]}\n",
      "\n",
      "INFO:__main__:Processed data saved to C:\\Users\\phamt\\Downloads\\Thesis_Project\\Processed_Dataset\\processed_CMG.csv\n",
      "[*********************100%***********************]  1 of 1 completed\n",
      "INFO:__main__:Data for BCS saved to C:\\Users\\phamt\\Downloads\\Thesis_Project\\Dataset\\BCS.csv\n"
     ]
    },
    {
     "data": {
      "application/vnd.jupyter.widget-view+json": {
       "model_id": "453be0e4a2134d99b19152e5cd22b231",
       "version_major": 2,
       "version_minor": 0
      },
      "text/plain": [
       "Batches:   0%|          | 0/40 [00:00<?, ?it/s]"
      ]
     },
     "metadata": {},
     "output_type": "display_data"
    },
    {
     "name": "stderr",
     "output_type": "stream",
     "text": [
      "ERROR:__main__:Error upserting data into Pinecone for BCS: (400)\n",
      "Reason: Bad Request\n",
      "HTTP response headers: HTTPHeaderDict({'Date': 'Sat, 28 Sep 2024 14:37:06 GMT', 'Content-Type': 'application/json', 'Content-Length': '113', 'Connection': 'keep-alive', 'x-pinecone-request-latency-ms': '1419', 'x-pinecone-request-id': '2383404532506540172', 'x-envoy-upstream-service-time': '15', 'server': 'envoy'})\n",
      "HTTP response body: {\"code\":3,\"message\":\"Number of provided vectors: 1258 exceeds the maximum amount per request: 1000\",\"details\":[]}\n",
      "\n",
      "INFO:__main__:Processed data saved to C:\\Users\\phamt\\Downloads\\Thesis_Project\\Processed_Dataset\\processed_BCS.csv\n",
      "[*********************100%***********************]  1 of 1 completed\n",
      "INFO:__main__:Data for UAA saved to C:\\Users\\phamt\\Downloads\\Thesis_Project\\Dataset\\UAA.csv\n"
     ]
    },
    {
     "data": {
      "application/vnd.jupyter.widget-view+json": {
       "model_id": "b84d977661b84025a69e543a640afe03",
       "version_major": 2,
       "version_minor": 0
      },
      "text/plain": [
       "Batches:   0%|          | 0/40 [00:00<?, ?it/s]"
      ]
     },
     "metadata": {},
     "output_type": "display_data"
    },
    {
     "name": "stderr",
     "output_type": "stream",
     "text": [
      "ERROR:__main__:Error upserting data into Pinecone for UAA: (400)\n",
      "Reason: Bad Request\n",
      "HTTP response headers: HTTPHeaderDict({'Date': 'Sat, 28 Sep 2024 14:37:43 GMT', 'Content-Type': 'application/json', 'Content-Length': '113', 'Connection': 'keep-alive', 'x-pinecone-request-latency-ms': '1089', 'x-pinecone-request-id': '385965260636459097', 'x-envoy-upstream-service-time': '16', 'server': 'envoy'})\n",
      "HTTP response body: {\"code\":3,\"message\":\"Number of provided vectors: 1258 exceeds the maximum amount per request: 1000\",\"details\":[]}\n",
      "\n",
      "INFO:__main__:Processed data saved to C:\\Users\\phamt\\Downloads\\Thesis_Project\\Processed_Dataset\\processed_UAA.csv\n"
     ]
    }
   ],
   "source": [
    "# Loop through all symbols and process each\n",
    "for symbol in symbols:\n",
    "    fetch_and_save_stock_data(symbol)"
   ]
  },
  {
   "cell_type": "code",
   "execution_count": 11,
   "id": "53c13c39",
   "metadata": {},
   "outputs": [],
   "source": [
    "csv_files = ['NVDA.csv', 'INTC.csv', 'PLTR.csv', 'TSLA.csv', 'AAPL.csv', 'BBD.csv', 'T.csv', 'SOFI.csv',\n",
    "             'WBD.csv', 'SNAP.csv', 'NIO.csv', 'BTG.csv', 'F.csv', 'AAL.csv', 'NOK.csv', 'BAC.csv',\n",
    "             'CCL.csv', 'ORCL.csv', 'AMD.csv', 'PFE.csv', 'KGC.csv', 'MARA.csv', 'SLB.csv', 'NU.csv',\n",
    "             'MPW.csv', 'MU.csv', 'LCID.csv', 'NCLH.csv', 'RIG.csv', 'AMZN.csv', 'ABEV.csv', 'U.csv',\n",
    "             'LUMN.csv', 'AGNC.csv', 'VZ.csv', 'WBA.csv', 'WFC.csv', 'RIVN.csv', 'UPST.csv', 'GRAB.csv',\n",
    "             'CSCO.csv', 'VALE.csv', 'AVGO.csv', 'PBR.csv', 'GOOGL.csv', 'SMMT.csv', 'GOLD.csv',\n",
    "             'CMG.csv', 'BCS.csv', 'UAA.csv']"
   ]
  },
  {
   "cell_type": "code",
   "execution_count": 12,
   "id": "55643595",
   "metadata": {},
   "outputs": [
    {
     "name": "stdout",
     "output_type": "stream",
     "text": [
      "Đã có đủ dữ liệu cho tất cả 50 mã cổ phiếu.\n"
     ]
    }
   ],
   "source": [
    "# Kiểm tra các tệp có trong thư mục\n",
    "csv_files_in_folder = [f for f in os.listdir(folder_path) if f.endswith('.csv')]\n",
    "\n",
    "# Lấy các mã từ tên các file CSV\n",
    "csv_symbols_in_folder = [f.split('.')[0] for f in csv_files_in_folder]\n",
    "\n",
    "# Kiểm tra các mã cổ phiếu nào thiếu\n",
    "missing_symbols = [symbol for symbol in symbols if symbol not in csv_symbols_in_folder]\n",
    "\n",
    "# In ra kết quả\n",
    "if missing_symbols:\n",
    "    print(f\"Các mã cổ phiếu bị thiếu: {missing_symbols}\")\n",
    "else:\n",
    "    print(\"Đã có đủ dữ liệu cho tất cả 50 mã cổ phiếu.\")"
   ]
  },
  {
   "cell_type": "markdown",
   "id": "YuCvPn-tCkK1",
   "metadata": {
    "id": "YuCvPn-tCkK1"
   },
   "source": [
    "# SVR Model"
   ]
  },
  {
   "cell_type": "code",
   "execution_count": 24,
   "id": "2ead8052",
   "metadata": {},
   "outputs": [],
   "source": [
    "import os\n",
    "import pandas as pd\n",
    "import numpy as np\n",
    "import math\n",
    "from sklearn.svm import SVR\n",
    "from sklearn.preprocessing import MinMaxScaler\n",
    "from sklearn.metrics import mean_squared_error, mean_absolute_percentage_error\n",
    "import json"
   ]
  },
  {
   "cell_type": "code",
   "execution_count": 18,
   "id": "029edde7",
   "metadata": {},
   "outputs": [],
   "source": [
    "# Hàm load dữ liệu\n",
    "def load_stock_data(symbol):\n",
    "    file_path = os.path.join(folder_path, f'{symbol}.csv')\n",
    "    df = pd.read_csv(file_path, parse_dates=['Date'])\n",
    "    df = df[['Date', 'Close']]  # Giữ lại cột Date và Close\n",
    "    return df"
   ]
  },
  {
   "cell_type": "code",
   "execution_count": 19,
   "id": "26e63707",
   "metadata": {},
   "outputs": [],
   "source": [
    "# Hàm chuẩn bị dữ liệu cho SVR\n",
    "def prepare_svr_data(df, time_step=60):\n",
    "    data = df['Close'].values\n",
    "    data = data.reshape(-1, 1)\n",
    "\n",
    "    # Chuẩn hóa dữ liệu với MinMaxScaler\n",
    "    scaler = MinMaxScaler(feature_range=(0, 1))\n",
    "    scaled_data = scaler.fit_transform(data)\n",
    "\n",
    "    x_data, y_data = [], []\n",
    "    for i in range(time_step, len(scaled_data)):\n",
    "        x_data.append(scaled_data[i-time_step:i, 0])\n",
    "        y_data.append(scaled_data[i, 0])\n",
    "\n",
    "    x_data, y_data = np.array(x_data), np.array(y_data)\n",
    "\n",
    "    return x_data, y_data, scaler"
   ]
  },
  {
   "cell_type": "code",
   "execution_count": 20,
   "id": "f10d19d9",
   "metadata": {},
   "outputs": [],
   "source": [
    "# Hàm huấn luyện SVR\n",
    "def train_svr(x_train, y_train):\n",
    "    svr_model = SVR(kernel='rbf', C=1e3, gamma=0.1)\n",
    "    svr_model.fit(x_train, y_train)\n",
    "    return svr_model\n",
    "\n",
    "# Hàm dự báo với SVR\n",
    "def predict_with_svr(model, x_test, scaler):\n",
    "    predicted_scaled = model.predict(x_test)\n",
    "    predicted_prices = scaler.inverse_transform(predicted_scaled.reshape(-1, 1))\n",
    "    return predicted_prices"
   ]
  },
  {
   "cell_type": "code",
   "execution_count": 21,
   "id": "2ae5f7e6",
   "metadata": {},
   "outputs": [],
   "source": [
    "# Hàm dự báo tương lai (365 ngày)\n",
    "def forecast_future_with_svr(model, last_sequence, scaler, days=365):\n",
    "    future_prices = []\n",
    "    for _ in range(days):\n",
    "        next_price_scaled = model.predict(last_sequence.reshape(1, -1))\n",
    "        next_price = scaler.inverse_transform(next_price_scaled.reshape(-1, 1))\n",
    "        future_prices.append(next_price[0, 0])\n",
    "\n",
    "        # Cập nhật dãy cuối cùng với giá dự báo để tiếp tục dự báo\n",
    "        last_sequence = np.append(last_sequence[1:], next_price_scaled)\n",
    "\n",
    "    return future_prices"
   ]
  },
  {
   "cell_type": "code",
   "execution_count": 25,
   "id": "7672be16",
   "metadata": {},
   "outputs": [
    {
     "name": "stdout",
     "output_type": "stream",
     "text": [
      "Processing NVDA...\n",
      "Completed processing for NVDA. RMSE: 50.1171, MSE: 2511.7245, MAPE: 0.5049\n",
      "Processing INTC...\n",
      "Completed processing for INTC. RMSE: 3.6036, MSE: 12.9861, MAPE: 0.0979\n",
      "Processing PLTR...\n",
      "Completed processing for PLTR. RMSE: 2.3759, MSE: 5.6449, MAPE: 0.0781\n",
      "Processing TSLA...\n",
      "Completed processing for TSLA. RMSE: 22.3354, MSE: 498.8716, MAPE: 0.1015\n",
      "Processing AAPL...\n",
      "Completed processing for AAPL. RMSE: 31.4207, MSE: 987.2615, MAPE: 0.1262\n",
      "Processing BBD...\n",
      "Completed processing for BBD. RMSE: 0.6636, MSE: 0.4404, MAPE: 0.2275\n",
      "Processing T...\n",
      "Completed processing for T. RMSE: 1.4779, MSE: 2.1843, MAPE: 0.0725\n",
      "Processing SOFI...\n",
      "Completed processing for SOFI. RMSE: 0.4085, MSE: 0.1669, MAPE: 0.0433\n",
      "Processing WBD...\n",
      "Completed processing for WBD. RMSE: 8.0455, MSE: 64.7301, MAPE: 0.7906\n",
      "Processing SNAP...\n",
      "Completed processing for SNAP. RMSE: 5.0843, MSE: 25.8504, MAPE: 0.4298\n",
      "Processing NIO...\n",
      "Completed processing for NIO. RMSE: 3.7698, MSE: 14.2110, MAPE: 0.6423\n",
      "Processing BTG...\n",
      "Completed processing for BTG. RMSE: 0.1866, MSE: 0.0348, MAPE: 0.0471\n",
      "Processing F...\n",
      "Completed processing for F. RMSE: 0.5771, MSE: 0.3330, MAPE: 0.0359\n",
      "Processing AAL...\n",
      "Completed processing for AAL. RMSE: 2.0872, MSE: 4.3566, MAPE: 0.1412\n",
      "Processing NOK...\n",
      "Completed processing for NOK. RMSE: 0.3050, MSE: 0.0930, MAPE: 0.0661\n",
      "Processing BAC...\n",
      "Completed processing for BAC. RMSE: 2.0891, MSE: 4.3643, MAPE: 0.0560\n",
      "Processing CCL...\n",
      "Completed processing for CCL. RMSE: 2.8689, MSE: 8.2304, MAPE: 0.2231\n",
      "Processing ORCL...\n",
      "Completed processing for ORCL. RMSE: 23.6072, MSE: 557.2977, MAPE: 0.1603\n",
      "Processing AMD...\n",
      "Completed processing for AMD. RMSE: 24.3338, MSE: 592.1320, MAPE: 0.1250\n",
      "Processing PFE...\n",
      "Completed processing for PFE. RMSE: 2.5241, MSE: 6.3709, MAPE: 0.0674\n",
      "Processing KGC...\n",
      "Completed processing for KGC. RMSE: 0.3087, MSE: 0.0953, MAPE: 0.0420\n",
      "Processing MARA...\n",
      "Completed processing for MARA. RMSE: 8.8115, MSE: 77.6433, MAPE: 0.8641\n",
      "Processing SLB...\n",
      "Completed processing for SLB. RMSE: 3.6447, MSE: 13.2836, MAPE: 0.0540\n",
      "Processing NU...\n",
      "Completed processing for NU. RMSE: 2.4594, MSE: 6.0488, MAPE: 0.1599\n",
      "Processing MPW...\n",
      "Completed processing for MPW. RMSE: 6.5857, MSE: 43.3720, MAPE: 1.1410\n",
      "Processing MU...\n",
      "Completed processing for MU. RMSE: 18.7133, MSE: 350.1885, MAPE: 0.1080\n",
      "Processing LCID...\n",
      "Completed processing for LCID. RMSE: 3.8406, MSE: 14.7501, MAPE: 1.2446\n",
      "Processing NCLH...\n",
      "Completed processing for NCLH. RMSE: 1.8484, MSE: 3.4164, MAPE: 0.1030\n",
      "Processing RIG...\n",
      "Completed processing for RIG. RMSE: 0.7385, MSE: 0.5454, MAPE: 0.1217\n",
      "Processing AMZN...\n",
      "Completed processing for AMZN. RMSE: 10.2322, MSE: 104.6988, MAPE: 0.0563\n",
      "Processing ABEV...\n",
      "Completed processing for ABEV. RMSE: 0.2125, MSE: 0.0452, MAPE: 0.0608\n",
      "Processing U...\n",
      "Completed processing for U. RMSE: 24.4084, MSE: 595.7717, MAPE: 1.1482\n",
      "Processing LUMN...\n",
      "Completed processing for LUMN. RMSE: 9.6003, MSE: 92.1661, MAPE: 5.2822\n",
      "Processing AGNC...\n",
      "Completed processing for AGNC. RMSE: 1.2378, MSE: 1.5322, MAPE: 0.1200\n",
      "Processing VZ...\n",
      "Completed processing for VZ. RMSE: 7.3970, MSE: 54.7153, MAPE: 0.1835\n",
      "Processing WBA...\n",
      "Completed processing for WBA. RMSE: 19.0632, MSE: 363.4055, MAPE: 0.9367\n",
      "Processing WFC...\n",
      "Completed processing for WFC. RMSE: 1.6659, MSE: 2.7751, MAPE: 0.0273\n",
      "Processing RIVN...\n",
      "Completed processing for RIVN. RMSE: 13.4005, MSE: 179.5725, MAPE: 1.1478\n",
      "Processing UPST...\n",
      "Completed processing for UPST. RMSE: 26.5277, MSE: 703.7209, MAPE: 0.9681\n",
      "Processing GRAB...\n",
      "Completed processing for GRAB. RMSE: 0.1906, MSE: 0.0363, MAPE: 0.0454\n",
      "Processing CSCO...\n",
      "Completed processing for CSCO. RMSE: 2.0156, MSE: 4.0627, MAPE: 0.0355\n",
      "Processing VALE...\n",
      "Completed processing for VALE. RMSE: 0.6527, MSE: 0.4260, MAPE: 0.0373\n",
      "Processing AVGO...\n",
      "Completed processing for AVGO. RMSE: 56.7971, MSE: 3225.9103, MAPE: 0.3724\n",
      "Processing PBR...\n",
      "Completed processing for PBR. RMSE: 0.7767, MSE: 0.6033, MAPE: 0.0461\n",
      "Processing GOOGL...\n",
      "Completed processing for GOOGL. RMSE: 20.9729, MSE: 439.8616, MAPE: 0.1013\n",
      "Processing SMMT...\n",
      "Completed processing for SMMT. RMSE: 1.2468, MSE: 1.5545, MAPE: 0.2448\n",
      "Processing GOLD...\n",
      "Completed processing for GOLD. RMSE: 0.6948, MSE: 0.4827, MAPE: 0.0331\n",
      "Processing CMG...\n",
      "Completed processing for CMG. RMSE: 15.6899, MSE: 246.1717, MAPE: 0.2074\n",
      "Processing BCS...\n",
      "Completed processing for BCS. RMSE: 0.5686, MSE: 0.3233, MAPE: 0.0564\n",
      "Processing UAA...\n",
      "Completed processing for UAA. RMSE: 2.9492, MSE: 8.6977, MAPE: 0.3741\n",
      "\n",
      "Forecast summary has been saved to C:\\Users\\Pham Ty\\Desktop\\Thesis-Predict\\Dataset_processed_2\\forecast_summary_svr.csv\n"
     ]
    }
   ],
   "source": [
    "# List to store forecast results for all symbols\n",
    "forecast_results = []\n",
    "\n",
    "for symbol in symbols:\n",
    "    print(f\"Processing {symbol}...\")\n",
    "\n",
    "    # Load data\n",
    "    try:\n",
    "        df = load_stock_data(symbol)\n",
    "    except FileNotFoundError:\n",
    "        print(f\"Error: CSV file for symbol '{symbol}' not found in {folder_path}. Skipping.\")\n",
    "        continue\n",
    "    except Exception as e:\n",
    "        print(f\"Error loading data for symbol '{symbol}': {e}. Skipping.\")\n",
    "        continue\n",
    "\n",
    "    # Ensure there is enough data\n",
    "    if len(df) < 61:  # At least time_step + 1\n",
    "        print(f\"Not enough data for symbol '{symbol}'. Skipping.\")\n",
    "        continue\n",
    "\n",
    "    # Prepare data\n",
    "    x_data, y_data, scaler = prepare_svr_data(df)\n",
    "\n",
    "    # Split into training and testing sets (80% train, 20% test)\n",
    "    split_index = int(len(x_data) * 0.8)\n",
    "    x_train, y_train = x_data[:split_index], y_data[:split_index]\n",
    "    x_test, y_test = x_data[split_index:], y_data[split_index:]\n",
    "\n",
    "    # Inverse transform y_train for storing actual prices\n",
    "    y_train_original = scaler.inverse_transform(y_train.reshape(-1, 1)).flatten().tolist()\n",
    "\n",
    "    # Train SVR model\n",
    "    svr_model = train_svr(x_train, y_train)\n",
    "\n",
    "    # Predict on test set\n",
    "    predicted_prices = predict_with_svr(svr_model, x_test, scaler).flatten().tolist()\n",
    "\n",
    "    # Inverse transform y_test for evaluation\n",
    "    y_test_original = scaler.inverse_transform(y_test.reshape(-1, 1)).flatten().tolist()\n",
    "\n",
    "    # Calculate evaluation metrics\n",
    "    mse = mean_squared_error(y_test_original, predicted_prices)\n",
    "    rmse = math.sqrt(mse)\n",
    "    mape = mean_absolute_percentage_error(y_test_original, predicted_prices)\n",
    "\n",
    "    print(f\"Completed processing for {symbol}. RMSE: {rmse:.4f}, MSE: {mse:.4f}, MAPE: {mape:.4f}\")\n",
    "\n",
    "    # Forecast future prices (365 days)\n",
    "    last_sequence = x_test[-1]\n",
    "    future_prices = forecast_future_with_svr(svr_model, last_sequence, scaler, days=365)\n",
    "\n",
    "    # Create future dates starting from the day after the last date in the dataset\n",
    "    future_dates = pd.date_range(start=df['Date'].max() + pd.Timedelta(days=1), periods=365, freq='D')\n",
    "    future_df = pd.DataFrame({\n",
    "        'Date': future_dates,\n",
    "        'Predicted_Price': future_prices\n",
    "    })\n",
    "\n",
    "    # Optionally, save future predictions per symbol as separate CSVs\n",
    "    # Uncomment the following lines if you want to save individual future predictions\n",
    "    # future_output_file = os.path.join(output_folder, f'{symbol}_future_predictions.csv')\n",
    "    # future_df.to_csv(future_output_file, index=False)\n",
    "\n",
    "    # Append results to the forecast_results list\n",
    "    forecast_results.append({\n",
    "        'Symbol': symbol,\n",
    "        'RMSE': rmse,\n",
    "        'MSE': mse,\n",
    "        'MAPE': mape,\n",
    "        'Train_Prices': y_train_original,\n",
    "        'Test_Prices': y_test_original,\n",
    "        'Predicted_Prices': predicted_prices,\n",
    "        'Future_Price_Predictions': future_prices\n",
    "    })\n",
    "\n",
    "# ============================\n",
    "# Saving the Forecast Summary\n",
    "# ============================\n",
    "\n",
    "# Check if any results were collected\n",
    "if not forecast_results:\n",
    "    print(\"No forecast results to save. Exiting.\")\n",
    "else:\n",
    "    # Convert the list of dictionaries to a DataFrame\n",
    "    df_summary = pd.DataFrame(forecast_results)\n",
    "\n",
    "    # Convert lists to JSON strings for CSV compatibility\n",
    "    list_columns = ['Train_Prices', 'Test_Prices', 'Predicted_Prices', 'Future_Price_Predictions']\n",
    "    for col in list_columns:\n",
    "        df_summary[col] = df_summary[col].apply(lambda x: json.dumps(x))\n",
    "\n",
    "    # Define the output file path\n",
    "    output_file = os.path.join(output_folder, 'forecast_summary_svr.csv')\n",
    "\n",
    "    # Save the DataFrame to a CSV file\n",
    "    df_summary.to_csv(output_file, index=False)\n",
    "\n",
    "    print(f\"\\nForecast summary has been saved to {output_file}\")"
   ]
  },
  {
   "cell_type": "code",
   "execution_count": 26,
   "id": "9083be1b",
   "metadata": {},
   "outputs": [],
   "source": [
    "# Chuyển kết quả thành DataFrame để dễ dàng truy vấn\n",
    "summary_svr = pd.DataFrame(forecast_results)"
   ]
  },
  {
   "cell_type": "code",
   "execution_count": 27,
   "id": "9e95c097",
   "metadata": {},
   "outputs": [
    {
     "data": {
      "text/html": [
       "<div>\n",
       "<style scoped>\n",
       "    .dataframe tbody tr th:only-of-type {\n",
       "        vertical-align: middle;\n",
       "    }\n",
       "\n",
       "    .dataframe tbody tr th {\n",
       "        vertical-align: top;\n",
       "    }\n",
       "\n",
       "    .dataframe thead th {\n",
       "        text-align: right;\n",
       "    }\n",
       "</style>\n",
       "<table border=\"1\" class=\"dataframe\">\n",
       "  <thead>\n",
       "    <tr style=\"text-align: right;\">\n",
       "      <th></th>\n",
       "      <th>Symbol</th>\n",
       "      <th>RMSE</th>\n",
       "      <th>MSE</th>\n",
       "      <th>MAPE</th>\n",
       "      <th>Train_Prices</th>\n",
       "      <th>Test_Prices</th>\n",
       "      <th>Predicted_Prices</th>\n",
       "      <th>Future_Price_Predictions</th>\n",
       "    </tr>\n",
       "  </thead>\n",
       "  <tbody>\n",
       "    <tr>\n",
       "      <th>0</th>\n",
       "      <td>NVDA</td>\n",
       "      <td>50.117108</td>\n",
       "      <td>2511.724528</td>\n",
       "      <td>0.504938</td>\n",
       "      <td>[0.4907500147819519, 0.48925000429153437, 0.48...</td>\n",
       "      <td>[12.51200008392334, 13.166999816894531, 13.208...</td>\n",
       "      <td>[17.572944295730203, 17.55778906431745, 17.548...</td>\n",
       "      <td>[17.64174288667546, 17.671253202996457, 17.693...</td>\n",
       "    </tr>\n",
       "    <tr>\n",
       "      <th>1</th>\n",
       "      <td>INTC</td>\n",
       "      <td>3.603622</td>\n",
       "      <td>12.986092</td>\n",
       "      <td>0.097906</td>\n",
       "      <td>[36.22999954223633, 35.91999816894531, 35.5600...</td>\n",
       "      <td>[26.969999313354492, 27.70000076293945, 27.639...</td>\n",
       "      <td>[30.39895209666215, 30.21473516823568, 30.2661...</td>\n",
       "      <td>[29.034137172590395, 29.529253790267123, 30.02...</td>\n",
       "    </tr>\n",
       "    <tr>\n",
       "      <th>2</th>\n",
       "      <td>PLTR</td>\n",
       "      <td>2.375905</td>\n",
       "      <td>5.644923</td>\n",
       "      <td>0.078135</td>\n",
       "      <td>[27.750000000000004, 25.6299991607666, 24.6599...</td>\n",
       "      <td>[17.840000152587887, 17.950000762939453, 17.25...</td>\n",
       "      <td>[19.127490887495462, 19.053047884982778, 18.95...</td>\n",
       "      <td>[30.03555515514592, 29.06110509791109, 28.3284...</td>\n",
       "    </tr>\n",
       "    <tr>\n",
       "      <th>3</th>\n",
       "      <td>TSLA</td>\n",
       "      <td>22.335433</td>\n",
       "      <td>498.871567</td>\n",
       "      <td>0.101496</td>\n",
       "      <td>[13.800000190734865, 13.602666854858398, 13.18...</td>\n",
       "      <td>[242.3999938964844, 249.44000244140625, 240.80...</td>\n",
       "      <td>[294.48267879837334, 286.0461068797887, 280.74...</td>\n",
       "      <td>[250.1633322010434, 256.92304715059703, 263.78...</td>\n",
       "    </tr>\n",
       "    <tr>\n",
       "      <th>4</th>\n",
       "      <td>AAPL</td>\n",
       "      <td>31.420717</td>\n",
       "      <td>987.261454</td>\n",
       "      <td>0.126236</td>\n",
       "      <td>[27.4325008392334, 27.0575008392334, 26.6875, ...</td>\n",
       "      <td>[142.44999694824216, 146.1000061035156, 146.39...</td>\n",
       "      <td>[154.8348570638322, 154.45210635121862, 154.29...</td>\n",
       "      <td>[142.19716814335985, 141.40105063624713, 140.5...</td>\n",
       "    </tr>\n",
       "    <tr>\n",
       "      <th>5</th>\n",
       "      <td>BBD</td>\n",
       "      <td>0.663599</td>\n",
       "      <td>0.440363</td>\n",
       "      <td>0.227539</td>\n",
       "      <td>[8.836088180541994, 8.443526268005371, 8.26446...</td>\n",
       "      <td>[4.059999942779541, 4.090000152587891, 4.11999...</td>\n",
       "      <td>[4.110432971465953, 4.184916093703884, 4.21576...</td>\n",
       "      <td>[3.528078594331514, 3.591876835035827, 3.63660...</td>\n",
       "    </tr>\n",
       "    <tr>\n",
       "      <th>6</th>\n",
       "      <td>T</td>\n",
       "      <td>1.477944</td>\n",
       "      <td>2.184318</td>\n",
       "      <td>0.072450</td>\n",
       "      <td>[24.29002952575684, 24.35800552368164, 24.2749...</td>\n",
       "      <td>[15.899999618530272, 16.09000015258789, 15.930...</td>\n",
       "      <td>[17.259944636599027, 17.297251467293098, 17.31...</td>\n",
       "      <td>[20.434361382638333, 20.32068516612367, 20.284...</td>\n",
       "    </tr>\n",
       "    <tr>\n",
       "      <th>7</th>\n",
       "      <td>SOFI</td>\n",
       "      <td>0.408481</td>\n",
       "      <td>0.166857</td>\n",
       "      <td>0.043310</td>\n",
       "      <td>[17.14999961853027, 17.270000457763672, 16.719...</td>\n",
       "      <td>[8.529999732971191, 8.319999694824219, 8.47999...</td>\n",
       "      <td>[8.442371330863613, 8.439307593182903, 8.40138...</td>\n",
       "      <td>[7.496727789138786, 7.4764900462553765, 7.4746...</td>\n",
       "    </tr>\n",
       "    <tr>\n",
       "      <th>8</th>\n",
       "      <td>WBD</td>\n",
       "      <td>8.045505</td>\n",
       "      <td>64.730144</td>\n",
       "      <td>0.790618</td>\n",
       "      <td>[33.380001068115234, 32.869998931884766, 33.18...</td>\n",
       "      <td>[11.949999809265137, 12.359999656677246, 12.22...</td>\n",
       "      <td>[18.124527680762686, 18.159140570415605, 18.19...</td>\n",
       "      <td>[18.987035511934465, 19.568905948196193, 20.09...</td>\n",
       "    </tr>\n",
       "    <tr>\n",
       "      <th>9</th>\n",
       "      <td>SNAP</td>\n",
       "      <td>5.084326</td>\n",
       "      <td>25.850371</td>\n",
       "      <td>0.429798</td>\n",
       "      <td>[21.21999931335449, 21.450000762939453, 21.209...</td>\n",
       "      <td>[11.210000038146973, 11.239999771118164, 11.00...</td>\n",
       "      <td>[16.120260711424937, 16.16266028575607, 16.182...</td>\n",
       "      <td>[12.530394908053768, 13.13340357675532, 13.765...</td>\n",
       "    </tr>\n",
       "    <tr>\n",
       "      <th>10</th>\n",
       "      <td>NIO</td>\n",
       "      <td>3.769754</td>\n",
       "      <td>14.211042</td>\n",
       "      <td>0.642337</td>\n",
       "      <td>[6.989999771118164, 7.03000020980835, 7.079999...</td>\n",
       "      <td>[11.729999542236328, 11.90999984741211, 13.170...</td>\n",
       "      <td>[13.195584182959646, 13.365958150462307, 13.53...</td>\n",
       "      <td>[8.830637191156066, 9.172113666128938, 9.48946...</td>\n",
       "    </tr>\n",
       "    <tr>\n",
       "      <th>11</th>\n",
       "      <td>BTG</td>\n",
       "      <td>0.186584</td>\n",
       "      <td>0.034814</td>\n",
       "      <td>0.047126</td>\n",
       "      <td>[1.7300000190734866, 1.5199999809265137, 1.549...</td>\n",
       "      <td>[3.3800001144409175, 3.4500000476837154, 3.450...</td>\n",
       "      <td>[3.112883819475578, 3.1559373701124653, 3.1831...</td>\n",
       "      <td>[3.0091165441081693, 2.9868394423092823, 2.965...</td>\n",
       "    </tr>\n",
       "    <tr>\n",
       "      <th>12</th>\n",
       "      <td>F</td>\n",
       "      <td>0.577069</td>\n",
       "      <td>0.333009</td>\n",
       "      <td>0.035914</td>\n",
       "      <td>[14.98999977111816, 14.279999732971191, 14.090...</td>\n",
       "      <td>[11.470000267028809, 12.359999656677246, 12.51...</td>\n",
       "      <td>[13.029720767321873, 12.883891278353591, 12.88...</td>\n",
       "      <td>[11.04212079894334, 11.074396410655867, 11.109...</td>\n",
       "    </tr>\n",
       "    <tr>\n",
       "      <th>13</th>\n",
       "      <td>AAL</td>\n",
       "      <td>2.087238</td>\n",
       "      <td>4.356561</td>\n",
       "      <td>0.141239</td>\n",
       "      <td>[49.970001220703125, 50.84000015258789, 47.959...</td>\n",
       "      <td>[11.920000076293944, 12.949999809265138, 12.86...</td>\n",
       "      <td>[14.76484646838255, 14.690563224311434, 14.737...</td>\n",
       "      <td>[15.218007772117357, 15.557208324278557, 15.83...</td>\n",
       "    </tr>\n",
       "    <tr>\n",
       "      <th>14</th>\n",
       "      <td>NOK</td>\n",
       "      <td>0.305040</td>\n",
       "      <td>0.093049</td>\n",
       "      <td>0.066051</td>\n",
       "      <td>[7.869999885559081, 7.739999771118164, 7.73000...</td>\n",
       "      <td>[4.389999866485596, 4.610000133514404, 4.55999...</td>\n",
       "      <td>[4.749346425035859, 4.349226649043659, 4.73759...</td>\n",
       "      <td>[4.215663957282269, 4.3945293464430355, 4.3377...</td>\n",
       "    </tr>\n",
       "    <tr>\n",
       "      <th>15</th>\n",
       "      <td>BAC</td>\n",
       "      <td>2.089101</td>\n",
       "      <td>4.364343</td>\n",
       "      <td>0.055957</td>\n",
       "      <td>[17.1299991607666, 16.850000381469727, 16.7199...</td>\n",
       "      <td>[31.09000015258789, 32.380001068115234, 31.920...</td>\n",
       "      <td>[29.193430645461536, 28.923985485256186, 28.94...</td>\n",
       "      <td>[37.95862282738625, 37.79716491288101, 37.6561...</td>\n",
       "    </tr>\n",
       "    <tr>\n",
       "      <th>16</th>\n",
       "      <td>CCL</td>\n",
       "      <td>2.868866</td>\n",
       "      <td>8.230392</td>\n",
       "      <td>0.223131</td>\n",
       "      <td>[42.95000076293945, 43.18999862670898, 43.1199...</td>\n",
       "      <td>[6.849999904632568, 7.760000228881836, 7.42999...</td>\n",
       "      <td>[13.386892321816296, 13.25706251597806, 13.175...</td>\n",
       "      <td>[17.792309575407234, 17.980912349460095, 18.17...</td>\n",
       "    </tr>\n",
       "    <tr>\n",
       "      <th>17</th>\n",
       "      <td>ORCL</td>\n",
       "      <td>23.607154</td>\n",
       "      <td>557.297733</td>\n",
       "      <td>0.160333</td>\n",
       "      <td>[39.95000076293945, 41.11000061035156, 40.6300...</td>\n",
       "      <td>[63.08000183105469, 65.69000244140625, 66.6399...</td>\n",
       "      <td>[71.48139969871394, 71.33133060202123, 71.2592...</td>\n",
       "      <td>[89.32040733259666, 89.30379532358603, 89.2607...</td>\n",
       "    </tr>\n",
       "    <tr>\n",
       "      <th>18</th>\n",
       "      <td>AMD</td>\n",
       "      <td>24.333762</td>\n",
       "      <td>592.131988</td>\n",
       "      <td>0.124999</td>\n",
       "      <td>[2.5199999809265137, 2.470000028610229, 2.5, 2...</td>\n",
       "      <td>[66.11000061035156, 67.9000015258789, 67.94000...</td>\n",
       "      <td>[83.26582017395383, 82.60139433792388, 82.0841...</td>\n",
       "      <td>[125.3585138219883, 123.9942166457904, 122.517...</td>\n",
       "    </tr>\n",
       "    <tr>\n",
       "      <th>19</th>\n",
       "      <td>PFE</td>\n",
       "      <td>2.524069</td>\n",
       "      <td>6.370923</td>\n",
       "      <td>0.067406</td>\n",
       "      <td>[29.36432647705078, 29.2789363861084, 29.09867...</td>\n",
       "      <td>[44.13999938964844, 44.459999084472656, 44.119...</td>\n",
       "      <td>[46.157926687731916, 46.067879534863586, 45.96...</td>\n",
       "      <td>[31.850092077417145, 32.08359577753448, 32.281...</td>\n",
       "    </tr>\n",
       "    <tr>\n",
       "      <th>20</th>\n",
       "      <td>KGC</td>\n",
       "      <td>0.308698</td>\n",
       "      <td>0.095294</td>\n",
       "      <td>0.042033</td>\n",
       "      <td>[2.9600000381469727, 2.700000047683716, 2.5999...</td>\n",
       "      <td>[3.950000047683716, 4.010000228881836, 3.93000...</td>\n",
       "      <td>[3.6655854322344497, 3.7762485683311127, 3.852...</td>\n",
       "      <td>[8.854119737393765, 8.757957226425507, 8.69432...</td>\n",
       "    </tr>\n",
       "    <tr>\n",
       "      <th>21</th>\n",
       "      <td>MARA</td>\n",
       "      <td>8.811545</td>\n",
       "      <td>77.643330</td>\n",
       "      <td>0.864141</td>\n",
       "      <td>[138.72000122070312, 144.47999572753906, 149.0...</td>\n",
       "      <td>[11.079999923706058, 12.880000114440918, 12.84...</td>\n",
       "      <td>[19.82763494728127, 19.84027931900112, 19.9367...</td>\n",
       "      <td>[22.937176635854435, 23.510781053649033, 24.07...</td>\n",
       "    </tr>\n",
       "    <tr>\n",
       "      <th>22</th>\n",
       "      <td>SLB</td>\n",
       "      <td>3.644668</td>\n",
       "      <td>13.283608</td>\n",
       "      <td>0.053986</td>\n",
       "      <td>[80.00000000000001, 79.90000152587892, 80.1900...</td>\n",
       "      <td>[38.29999923706055, 39.119998931884766, 41.569...</td>\n",
       "      <td>[33.23798995570751, 33.4236390818398, 33.63653...</td>\n",
       "      <td>[39.41603286071251, 39.1331913112703, 38.83609...</td>\n",
       "    </tr>\n",
       "    <tr>\n",
       "      <th>23</th>\n",
       "      <td>NU</td>\n",
       "      <td>2.459424</td>\n",
       "      <td>6.048766</td>\n",
       "      <td>0.159863</td>\n",
       "      <td>[7.579999923706054, 7.960000038146973, 7.05000...</td>\n",
       "      <td>[11.609999656677246, 11.789999961853027, 11.85...</td>\n",
       "      <td>[10.773503761641072, 10.804127457055742, 10.83...</td>\n",
       "      <td>[9.61008400786154, 9.48132975936999, 9.3675680...</td>\n",
       "    </tr>\n",
       "    <tr>\n",
       "      <th>24</th>\n",
       "      <td>MPW</td>\n",
       "      <td>6.585744</td>\n",
       "      <td>43.372030</td>\n",
       "      <td>1.141037</td>\n",
       "      <td>[13.539999961853027, 13.239999771118162, 13.06...</td>\n",
       "      <td>[11.550000190734863, 11.989999771118162, 11.39...</td>\n",
       "      <td>[13.2532574981889, 13.196414335484057, 13.2061...</td>\n",
       "      <td>[13.541703418326575, 13.61674228506727, 13.693...</td>\n",
       "    </tr>\n",
       "    <tr>\n",
       "      <th>25</th>\n",
       "      <td>MU</td>\n",
       "      <td>18.713324</td>\n",
       "      <td>350.188491</td>\n",
       "      <td>0.108032</td>\n",
       "      <td>[34.0, 33.349998474121094, 32.91999816894531, ...</td>\n",
       "      <td>[51.72000122070313, 53.959999084472656, 54.729...</td>\n",
       "      <td>[52.145371983027104, 52.01157208878217, 52.059...</td>\n",
       "      <td>[76.99878125029387, 76.80046820986072, 76.5382...</td>\n",
       "    </tr>\n",
       "    <tr>\n",
       "      <th>26</th>\n",
       "      <td>LCID</td>\n",
       "      <td>3.840587</td>\n",
       "      <td>14.750108</td>\n",
       "      <td>1.244575</td>\n",
       "      <td>[9.979999542236326, 9.970000267028809, 9.94499...</td>\n",
       "      <td>[4.769999980926514, 4.730000019073486, 4.71999...</td>\n",
       "      <td>[7.379722077762626, 7.4345428932615585, 7.5944...</td>\n",
       "      <td>[8.068530123617546, 9.545331752167787, 10.5962...</td>\n",
       "    </tr>\n",
       "    <tr>\n",
       "      <th>27</th>\n",
       "      <td>NCLH</td>\n",
       "      <td>1.848356</td>\n",
       "      <td>3.416419</td>\n",
       "      <td>0.102994</td>\n",
       "      <td>[43.790000915527344, 43.7400016784668, 43.7599...</td>\n",
       "      <td>[11.399999618530272, 13.31999969482422, 13.220...</td>\n",
       "      <td>[16.618129400533842, 16.359915952171683, 16.24...</td>\n",
       "      <td>[18.605435524392973, 18.702426132061277, 18.86...</td>\n",
       "    </tr>\n",
       "    <tr>\n",
       "      <th>28</th>\n",
       "      <td>RIG</td>\n",
       "      <td>0.738542</td>\n",
       "      <td>0.545444</td>\n",
       "      <td>0.121723</td>\n",
       "      <td>[16.469999313354492, 16.25, 16.780000686645508...</td>\n",
       "      <td>[2.6700000762939453, 2.900000095367432, 3.0, 3...</td>\n",
       "      <td>[4.619598808911491, 4.607694081510327, 4.60451...</td>\n",
       "      <td>[5.35955576896909, 5.390003200569601, 5.423166...</td>\n",
       "    </tr>\n",
       "    <tr>\n",
       "      <th>29</th>\n",
       "      <td>AMZN</td>\n",
       "      <td>10.232243</td>\n",
       "      <td>104.698802</td>\n",
       "      <td>0.056333</td>\n",
       "      <td>[15.366000175476074, 15.303500175476074, 14.75...</td>\n",
       "      <td>[115.87999725341793, 121.0899963378906, 120.94...</td>\n",
       "      <td>[122.26732108551771, 122.37200181658052, 122.9...</td>\n",
       "      <td>[167.3194605932342, 165.9175763545535, 164.165...</td>\n",
       "    </tr>\n",
       "    <tr>\n",
       "      <th>30</th>\n",
       "      <td>ABEV</td>\n",
       "      <td>0.212508</td>\n",
       "      <td>0.045160</td>\n",
       "      <td>0.060845</td>\n",
       "      <td>[5.860000133514404, 5.75, 5.679999828338623, 5...</td>\n",
       "      <td>[3.109999895095825, 3.0999999046325684, 3.0699...</td>\n",
       "      <td>[2.8808751866182223, 2.9055453834726928, 2.925...</td>\n",
       "      <td>[2.834151390120325, 2.873792253042244, 2.91297...</td>\n",
       "    </tr>\n",
       "    <tr>\n",
       "      <th>31</th>\n",
       "      <td>U</td>\n",
       "      <td>24.408434</td>\n",
       "      <td>595.771652</td>\n",
       "      <td>1.148151</td>\n",
       "      <td>[146.72000122070312, 144.5800018310547, 146.69...</td>\n",
       "      <td>[39.36000061035156, 39.310001373291016, 40.939...</td>\n",
       "      <td>[46.83231247968326, 47.09276512776946, 47.2522...</td>\n",
       "      <td>[52.20851036560691, 53.05599520096715, 53.7808...</td>\n",
       "    </tr>\n",
       "    <tr>\n",
       "      <th>32</th>\n",
       "      <td>LUMN</td>\n",
       "      <td>9.600318</td>\n",
       "      <td>92.166098</td>\n",
       "      <td>5.282158</td>\n",
       "      <td>[37.58000183105469, 37.77999877929688, 37.8899...</td>\n",
       "      <td>[7.7800002098083505, 8.039999961853027, 7.2800...</td>\n",
       "      <td>[11.306284237030905, 11.28697507976901, 11.277...</td>\n",
       "      <td>[12.106502691912393, 12.182171117491833, 12.24...</td>\n",
       "    </tr>\n",
       "    <tr>\n",
       "      <th>33</th>\n",
       "      <td>AGNC</td>\n",
       "      <td>1.237806</td>\n",
       "      <td>1.532163</td>\n",
       "      <td>0.120021</td>\n",
       "      <td>[22.239999771118164, 21.86000061035156, 21.780...</td>\n",
       "      <td>[8.520000457763672, 9.109999656677246, 8.5, 8....</td>\n",
       "      <td>[9.99368146563195, 9.974088337001671, 10.06401...</td>\n",
       "      <td>[10.92827121249026, 11.007394155819272, 11.065...</td>\n",
       "    </tr>\n",
       "    <tr>\n",
       "      <th>34</th>\n",
       "      <td>VZ</td>\n",
       "      <td>7.396978</td>\n",
       "      <td>54.715280</td>\n",
       "      <td>0.183483</td>\n",
       "      <td>[45.58000183105469, 45.41999816894531, 45.5299...</td>\n",
       "      <td>[39.15999984741211, 39.810001373291016, 39.400...</td>\n",
       "      <td>[41.12825686972238, 41.386464618765594, 41.733...</td>\n",
       "      <td>[45.9344954650451, 46.253751245346606, 46.5369...</td>\n",
       "    </tr>\n",
       "    <tr>\n",
       "      <th>35</th>\n",
       "      <td>WBA</td>\n",
       "      <td>19.063196</td>\n",
       "      <td>363.405458</td>\n",
       "      <td>0.936714</td>\n",
       "      <td>[74.5, 73.44000244140625, 72.38999938964844, 7...</td>\n",
       "      <td>[32.43000030517578, 33.38999938964844, 33.1599...</td>\n",
       "      <td>[40.132012415546626, 40.142284530267155, 40.20...</td>\n",
       "      <td>[47.613459741061554, 47.87894041224563, 48.074...</td>\n",
       "    </tr>\n",
       "    <tr>\n",
       "      <th>36</th>\n",
       "      <td>WFC</td>\n",
       "      <td>1.665862</td>\n",
       "      <td>2.775095</td>\n",
       "      <td>0.027300</td>\n",
       "      <td>[53.70000076293945, 53.18999862670897, 52.7700...</td>\n",
       "      <td>[41.58000183105469, 43.540000915527344, 43.310...</td>\n",
       "      <td>[42.31006652807323, 42.32902382061834, 42.7202...</td>\n",
       "      <td>[51.61402060496067, 50.794063224238904, 49.892...</td>\n",
       "    </tr>\n",
       "    <tr>\n",
       "      <th>37</th>\n",
       "      <td>RIVN</td>\n",
       "      <td>13.400467</td>\n",
       "      <td>179.572511</td>\n",
       "      <td>1.147844</td>\n",
       "      <td>[58.36000061035156, 60.95000076293945, 64.5299...</td>\n",
       "      <td>[12.6899995803833, 12.369999885559082, 11.7100...</td>\n",
       "      <td>[26.348252702155612, 26.339408570975934, 26.32...</td>\n",
       "      <td>[25.755150639825047, 25.808732678815034, 25.85...</td>\n",
       "    </tr>\n",
       "    <tr>\n",
       "      <th>38</th>\n",
       "      <td>UPST</td>\n",
       "      <td>26.527737</td>\n",
       "      <td>703.720855</td>\n",
       "      <td>0.968090</td>\n",
       "      <td>[60.04999923706055, 60.790000915527344, 115.08...</td>\n",
       "      <td>[33.95000076293945, 33.2400016784668, 35.54000...</td>\n",
       "      <td>[59.83647472553663, 58.777557630745555, 58.395...</td>\n",
       "      <td>[63.439709038168736, 70.6951606967587, 78.9194...</td>\n",
       "    </tr>\n",
       "    <tr>\n",
       "      <th>39</th>\n",
       "      <td>GRAB</td>\n",
       "      <td>0.190568</td>\n",
       "      <td>0.036316</td>\n",
       "      <td>0.045388</td>\n",
       "      <td>[12.890000343322754, 12.699999809265137, 11.38...</td>\n",
       "      <td>[3.299999952316284, 3.2850000858306885, 3.25, ...</td>\n",
       "      <td>[3.4580683299946253, 3.4670222140956364, 3.469...</td>\n",
       "      <td>[3.4634237135442882, 3.471916669601317, 3.4773...</td>\n",
       "    </tr>\n",
       "    <tr>\n",
       "      <th>40</th>\n",
       "      <td>CSCO</td>\n",
       "      <td>2.015605</td>\n",
       "      <td>4.062664</td>\n",
       "      <td>0.035498</td>\n",
       "      <td>[26.86000061035156, 26.680000305175785, 26.590...</td>\n",
       "      <td>[41.290000915527344, 41.81999969482421, 41.990...</td>\n",
       "      <td>[40.23556929765307, 40.186375270727595, 39.957...</td>\n",
       "      <td>[47.80225063138605, 47.32004922741598, 47.1756...</td>\n",
       "    </tr>\n",
       "    <tr>\n",
       "      <th>41</th>\n",
       "      <td>VALE</td>\n",
       "      <td>0.652705</td>\n",
       "      <td>0.426024</td>\n",
       "      <td>0.037338</td>\n",
       "      <td>[7.190000057220458, 6.860000133514404, 7.03999...</td>\n",
       "      <td>[14.25, 14.640000343322756, 14.800000190734863...</td>\n",
       "      <td>[12.623524964267729, 12.873162515061589, 13.13...</td>\n",
       "      <td>[10.381123556155941, 10.392492358158124, 10.41...</td>\n",
       "    </tr>\n",
       "    <tr>\n",
       "      <th>42</th>\n",
       "      <td>AVGO</td>\n",
       "      <td>56.797098</td>\n",
       "      <td>3225.910341</td>\n",
       "      <td>0.372400</td>\n",
       "      <td>[9.920000076293944, 9.821000099182127, 9.73299...</td>\n",
       "      <td>[45.678001403808594, 47.98600006103516, 48.479...</td>\n",
       "      <td>[46.6887198476793, 46.62109535658865, 46.60110...</td>\n",
       "      <td>[47.15968413854074, 47.237011840052006, 47.289...</td>\n",
       "    </tr>\n",
       "    <tr>\n",
       "      <th>43</th>\n",
       "      <td>PBR</td>\n",
       "      <td>0.776720</td>\n",
       "      <td>0.603294</td>\n",
       "      <td>0.046055</td>\n",
       "      <td>[7.110000133514405, 6.260000228881836, 6.28000...</td>\n",
       "      <td>[13.899999618530272, 13.670000076293944, 14.10...</td>\n",
       "      <td>[12.354132857099213, 13.483790460760845, 13.62...</td>\n",
       "      <td>[14.184416352632828, 13.82467356650498, 13.222...</td>\n",
       "    </tr>\n",
       "    <tr>\n",
       "      <th>44</th>\n",
       "      <td>GOOGL</td>\n",
       "      <td>20.972878</td>\n",
       "      <td>439.861616</td>\n",
       "      <td>0.101276</td>\n",
       "      <td>[26.075500488281254, 25.791999816894535, 24.90...</td>\n",
       "      <td>[98.63999938964844, 101.63999938964844, 101.43...</td>\n",
       "      <td>[110.42073917661654, 110.04339055381394, 109.7...</td>\n",
       "      <td>[127.17067820264583, 127.11390662992655, 127.0...</td>\n",
       "    </tr>\n",
       "    <tr>\n",
       "      <th>45</th>\n",
       "      <td>SMMT</td>\n",
       "      <td>1.246794</td>\n",
       "      <td>1.554497</td>\n",
       "      <td>0.244809</td>\n",
       "      <td>[10.697999954223633, 10.510000228881836, 10.26...</td>\n",
       "      <td>[1.0399999618530271, 1.0299999713897705, 1.049...</td>\n",
       "      <td>[1.956984348722246, 1.857032749277165, 1.83819...</td>\n",
       "      <td>[21.543583941945762, 25.105093409011136, 24.05...</td>\n",
       "    </tr>\n",
       "    <tr>\n",
       "      <th>46</th>\n",
       "      <td>GOLD</td>\n",
       "      <td>0.694765</td>\n",
       "      <td>0.482699</td>\n",
       "      <td>0.033061</td>\n",
       "      <td>[11.470000267028809, 10.449999809265137, 10.31...</td>\n",
       "      <td>[15.920000076293944, 16.049999237060547, 15.89...</td>\n",
       "      <td>[15.066945074534953, 15.219436072698109, 15.34...</td>\n",
       "      <td>[19.876304973417362, 19.75384259268689, 19.650...</td>\n",
       "    </tr>\n",
       "    <tr>\n",
       "      <th>47</th>\n",
       "      <td>CMG</td>\n",
       "      <td>15.689859</td>\n",
       "      <td>246.171672</td>\n",
       "      <td>0.207417</td>\n",
       "      <td>[13.153400421142576, 12.97659969329834, 12.670...</td>\n",
       "      <td>[30.0939998626709, 30.722999572753903, 30.3955...</td>\n",
       "      <td>[31.750764877522307, 31.721693562327133, 31.72...</td>\n",
       "      <td>[31.232573955642565, 31.295393093319465, 31.36...</td>\n",
       "    </tr>\n",
       "    <tr>\n",
       "      <th>48</th>\n",
       "      <td>BCS</td>\n",
       "      <td>0.568635</td>\n",
       "      <td>0.323346</td>\n",
       "      <td>0.056404</td>\n",
       "      <td>[14.460000038146973, 14.109999656677248, 14.22...</td>\n",
       "      <td>[6.610000133514404, 6.960000038146973, 6.78000...</td>\n",
       "      <td>[6.6611995956160435, 6.654683310968327, 6.7077...</td>\n",
       "      <td>[11.306164572214154, 11.112883973291869, 11.01...</td>\n",
       "    </tr>\n",
       "    <tr>\n",
       "      <th>49</th>\n",
       "      <td>UAA</td>\n",
       "      <td>2.949181</td>\n",
       "      <td>8.697667</td>\n",
       "      <td>0.374128</td>\n",
       "      <td>[34.415000915527344, 34.27000045776367, 33.224...</td>\n",
       "      <td>[7.030000209808349, 7.400000095367432, 7.48000...</td>\n",
       "      <td>[10.331161850805637, 10.318914363319792, 10.34...</td>\n",
       "      <td>[10.959264504041524, 11.20970788383302, 11.349...</td>\n",
       "    </tr>\n",
       "  </tbody>\n",
       "</table>\n",
       "</div>"
      ],
      "text/plain": [
       "   Symbol       RMSE          MSE      MAPE  \\\n",
       "0    NVDA  50.117108  2511.724528  0.504938   \n",
       "1    INTC   3.603622    12.986092  0.097906   \n",
       "2    PLTR   2.375905     5.644923  0.078135   \n",
       "3    TSLA  22.335433   498.871567  0.101496   \n",
       "4    AAPL  31.420717   987.261454  0.126236   \n",
       "5     BBD   0.663599     0.440363  0.227539   \n",
       "6       T   1.477944     2.184318  0.072450   \n",
       "7    SOFI   0.408481     0.166857  0.043310   \n",
       "8     WBD   8.045505    64.730144  0.790618   \n",
       "9    SNAP   5.084326    25.850371  0.429798   \n",
       "10    NIO   3.769754    14.211042  0.642337   \n",
       "11    BTG   0.186584     0.034814  0.047126   \n",
       "12      F   0.577069     0.333009  0.035914   \n",
       "13    AAL   2.087238     4.356561  0.141239   \n",
       "14    NOK   0.305040     0.093049  0.066051   \n",
       "15    BAC   2.089101     4.364343  0.055957   \n",
       "16    CCL   2.868866     8.230392  0.223131   \n",
       "17   ORCL  23.607154   557.297733  0.160333   \n",
       "18    AMD  24.333762   592.131988  0.124999   \n",
       "19    PFE   2.524069     6.370923  0.067406   \n",
       "20    KGC   0.308698     0.095294  0.042033   \n",
       "21   MARA   8.811545    77.643330  0.864141   \n",
       "22    SLB   3.644668    13.283608  0.053986   \n",
       "23     NU   2.459424     6.048766  0.159863   \n",
       "24    MPW   6.585744    43.372030  1.141037   \n",
       "25     MU  18.713324   350.188491  0.108032   \n",
       "26   LCID   3.840587    14.750108  1.244575   \n",
       "27   NCLH   1.848356     3.416419  0.102994   \n",
       "28    RIG   0.738542     0.545444  0.121723   \n",
       "29   AMZN  10.232243   104.698802  0.056333   \n",
       "30   ABEV   0.212508     0.045160  0.060845   \n",
       "31      U  24.408434   595.771652  1.148151   \n",
       "32   LUMN   9.600318    92.166098  5.282158   \n",
       "33   AGNC   1.237806     1.532163  0.120021   \n",
       "34     VZ   7.396978    54.715280  0.183483   \n",
       "35    WBA  19.063196   363.405458  0.936714   \n",
       "36    WFC   1.665862     2.775095  0.027300   \n",
       "37   RIVN  13.400467   179.572511  1.147844   \n",
       "38   UPST  26.527737   703.720855  0.968090   \n",
       "39   GRAB   0.190568     0.036316  0.045388   \n",
       "40   CSCO   2.015605     4.062664  0.035498   \n",
       "41   VALE   0.652705     0.426024  0.037338   \n",
       "42   AVGO  56.797098  3225.910341  0.372400   \n",
       "43    PBR   0.776720     0.603294  0.046055   \n",
       "44  GOOGL  20.972878   439.861616  0.101276   \n",
       "45   SMMT   1.246794     1.554497  0.244809   \n",
       "46   GOLD   0.694765     0.482699  0.033061   \n",
       "47    CMG  15.689859   246.171672  0.207417   \n",
       "48    BCS   0.568635     0.323346  0.056404   \n",
       "49    UAA   2.949181     8.697667  0.374128   \n",
       "\n",
       "                                         Train_Prices  \\\n",
       "0   [0.4907500147819519, 0.48925000429153437, 0.48...   \n",
       "1   [36.22999954223633, 35.91999816894531, 35.5600...   \n",
       "2   [27.750000000000004, 25.6299991607666, 24.6599...   \n",
       "3   [13.800000190734865, 13.602666854858398, 13.18...   \n",
       "4   [27.4325008392334, 27.0575008392334, 26.6875, ...   \n",
       "5   [8.836088180541994, 8.443526268005371, 8.26446...   \n",
       "6   [24.29002952575684, 24.35800552368164, 24.2749...   \n",
       "7   [17.14999961853027, 17.270000457763672, 16.719...   \n",
       "8   [33.380001068115234, 32.869998931884766, 33.18...   \n",
       "9   [21.21999931335449, 21.450000762939453, 21.209...   \n",
       "10  [6.989999771118164, 7.03000020980835, 7.079999...   \n",
       "11  [1.7300000190734866, 1.5199999809265137, 1.549...   \n",
       "12  [14.98999977111816, 14.279999732971191, 14.090...   \n",
       "13  [49.970001220703125, 50.84000015258789, 47.959...   \n",
       "14  [7.869999885559081, 7.739999771118164, 7.73000...   \n",
       "15  [17.1299991607666, 16.850000381469727, 16.7199...   \n",
       "16  [42.95000076293945, 43.18999862670898, 43.1199...   \n",
       "17  [39.95000076293945, 41.11000061035156, 40.6300...   \n",
       "18  [2.5199999809265137, 2.470000028610229, 2.5, 2...   \n",
       "19  [29.36432647705078, 29.2789363861084, 29.09867...   \n",
       "20  [2.9600000381469727, 2.700000047683716, 2.5999...   \n",
       "21  [138.72000122070312, 144.47999572753906, 149.0...   \n",
       "22  [80.00000000000001, 79.90000152587892, 80.1900...   \n",
       "23  [7.579999923706054, 7.960000038146973, 7.05000...   \n",
       "24  [13.539999961853027, 13.239999771118162, 13.06...   \n",
       "25  [34.0, 33.349998474121094, 32.91999816894531, ...   \n",
       "26  [9.979999542236326, 9.970000267028809, 9.94499...   \n",
       "27  [43.790000915527344, 43.7400016784668, 43.7599...   \n",
       "28  [16.469999313354492, 16.25, 16.780000686645508...   \n",
       "29  [15.366000175476074, 15.303500175476074, 14.75...   \n",
       "30  [5.860000133514404, 5.75, 5.679999828338623, 5...   \n",
       "31  [146.72000122070312, 144.5800018310547, 146.69...   \n",
       "32  [37.58000183105469, 37.77999877929688, 37.8899...   \n",
       "33  [22.239999771118164, 21.86000061035156, 21.780...   \n",
       "34  [45.58000183105469, 45.41999816894531, 45.5299...   \n",
       "35  [74.5, 73.44000244140625, 72.38999938964844, 7...   \n",
       "36  [53.70000076293945, 53.18999862670897, 52.7700...   \n",
       "37  [58.36000061035156, 60.95000076293945, 64.5299...   \n",
       "38  [60.04999923706055, 60.790000915527344, 115.08...   \n",
       "39  [12.890000343322754, 12.699999809265137, 11.38...   \n",
       "40  [26.86000061035156, 26.680000305175785, 26.590...   \n",
       "41  [7.190000057220458, 6.860000133514404, 7.03999...   \n",
       "42  [9.920000076293944, 9.821000099182127, 9.73299...   \n",
       "43  [7.110000133514405, 6.260000228881836, 6.28000...   \n",
       "44  [26.075500488281254, 25.791999816894535, 24.90...   \n",
       "45  [10.697999954223633, 10.510000228881836, 10.26...   \n",
       "46  [11.470000267028809, 10.449999809265137, 10.31...   \n",
       "47  [13.153400421142576, 12.97659969329834, 12.670...   \n",
       "48  [14.460000038146973, 14.109999656677248, 14.22...   \n",
       "49  [34.415000915527344, 34.27000045776367, 33.224...   \n",
       "\n",
       "                                          Test_Prices  \\\n",
       "0   [12.51200008392334, 13.166999816894531, 13.208...   \n",
       "1   [26.969999313354492, 27.70000076293945, 27.639...   \n",
       "2   [17.840000152587887, 17.950000762939453, 17.25...   \n",
       "3   [242.3999938964844, 249.44000244140625, 240.80...   \n",
       "4   [142.44999694824216, 146.1000061035156, 146.39...   \n",
       "5   [4.059999942779541, 4.090000152587891, 4.11999...   \n",
       "6   [15.899999618530272, 16.09000015258789, 15.930...   \n",
       "7   [8.529999732971191, 8.319999694824219, 8.47999...   \n",
       "8   [11.949999809265137, 12.359999656677246, 12.22...   \n",
       "9   [11.210000038146973, 11.239999771118164, 11.00...   \n",
       "10  [11.729999542236328, 11.90999984741211, 13.170...   \n",
       "11  [3.3800001144409175, 3.4500000476837154, 3.450...   \n",
       "12  [11.470000267028809, 12.359999656677246, 12.51...   \n",
       "13  [11.920000076293944, 12.949999809265138, 12.86...   \n",
       "14  [4.389999866485596, 4.610000133514404, 4.55999...   \n",
       "15  [31.09000015258789, 32.380001068115234, 31.920...   \n",
       "16  [6.849999904632568, 7.760000228881836, 7.42999...   \n",
       "17  [63.08000183105469, 65.69000244140625, 66.6399...   \n",
       "18  [66.11000061035156, 67.9000015258789, 67.94000...   \n",
       "19  [44.13999938964844, 44.459999084472656, 44.119...   \n",
       "20  [3.950000047683716, 4.010000228881836, 3.93000...   \n",
       "21  [11.079999923706058, 12.880000114440918, 12.84...   \n",
       "22  [38.29999923706055, 39.119998931884766, 41.569...   \n",
       "23  [11.609999656677246, 11.789999961853027, 11.85...   \n",
       "24  [11.550000190734863, 11.989999771118162, 11.39...   \n",
       "25  [51.72000122070313, 53.959999084472656, 54.729...   \n",
       "26  [4.769999980926514, 4.730000019073486, 4.71999...   \n",
       "27  [11.399999618530272, 13.31999969482422, 13.220...   \n",
       "28  [2.6700000762939453, 2.900000095367432, 3.0, 3...   \n",
       "29  [115.87999725341793, 121.0899963378906, 120.94...   \n",
       "30  [3.109999895095825, 3.0999999046325684, 3.0699...   \n",
       "31  [39.36000061035156, 39.310001373291016, 40.939...   \n",
       "32  [7.7800002098083505, 8.039999961853027, 7.2800...   \n",
       "33  [8.520000457763672, 9.109999656677246, 8.5, 8....   \n",
       "34  [39.15999984741211, 39.810001373291016, 39.400...   \n",
       "35  [32.43000030517578, 33.38999938964844, 33.1599...   \n",
       "36  [41.58000183105469, 43.540000915527344, 43.310...   \n",
       "37  [12.6899995803833, 12.369999885559082, 11.7100...   \n",
       "38  [33.95000076293945, 33.2400016784668, 35.54000...   \n",
       "39  [3.299999952316284, 3.2850000858306885, 3.25, ...   \n",
       "40  [41.290000915527344, 41.81999969482421, 41.990...   \n",
       "41  [14.25, 14.640000343322756, 14.800000190734863...   \n",
       "42  [45.678001403808594, 47.98600006103516, 48.479...   \n",
       "43  [13.899999618530272, 13.670000076293944, 14.10...   \n",
       "44  [98.63999938964844, 101.63999938964844, 101.43...   \n",
       "45  [1.0399999618530271, 1.0299999713897705, 1.049...   \n",
       "46  [15.920000076293944, 16.049999237060547, 15.89...   \n",
       "47  [30.0939998626709, 30.722999572753903, 30.3955...   \n",
       "48  [6.610000133514404, 6.960000038146973, 6.78000...   \n",
       "49  [7.030000209808349, 7.400000095367432, 7.48000...   \n",
       "\n",
       "                                     Predicted_Prices  \\\n",
       "0   [17.572944295730203, 17.55778906431745, 17.548...   \n",
       "1   [30.39895209666215, 30.21473516823568, 30.2661...   \n",
       "2   [19.127490887495462, 19.053047884982778, 18.95...   \n",
       "3   [294.48267879837334, 286.0461068797887, 280.74...   \n",
       "4   [154.8348570638322, 154.45210635121862, 154.29...   \n",
       "5   [4.110432971465953, 4.184916093703884, 4.21576...   \n",
       "6   [17.259944636599027, 17.297251467293098, 17.31...   \n",
       "7   [8.442371330863613, 8.439307593182903, 8.40138...   \n",
       "8   [18.124527680762686, 18.159140570415605, 18.19...   \n",
       "9   [16.120260711424937, 16.16266028575607, 16.182...   \n",
       "10  [13.195584182959646, 13.365958150462307, 13.53...   \n",
       "11  [3.112883819475578, 3.1559373701124653, 3.1831...   \n",
       "12  [13.029720767321873, 12.883891278353591, 12.88...   \n",
       "13  [14.76484646838255, 14.690563224311434, 14.737...   \n",
       "14  [4.749346425035859, 4.349226649043659, 4.73759...   \n",
       "15  [29.193430645461536, 28.923985485256186, 28.94...   \n",
       "16  [13.386892321816296, 13.25706251597806, 13.175...   \n",
       "17  [71.48139969871394, 71.33133060202123, 71.2592...   \n",
       "18  [83.26582017395383, 82.60139433792388, 82.0841...   \n",
       "19  [46.157926687731916, 46.067879534863586, 45.96...   \n",
       "20  [3.6655854322344497, 3.7762485683311127, 3.852...   \n",
       "21  [19.82763494728127, 19.84027931900112, 19.9367...   \n",
       "22  [33.23798995570751, 33.4236390818398, 33.63653...   \n",
       "23  [10.773503761641072, 10.804127457055742, 10.83...   \n",
       "24  [13.2532574981889, 13.196414335484057, 13.2061...   \n",
       "25  [52.145371983027104, 52.01157208878217, 52.059...   \n",
       "26  [7.379722077762626, 7.4345428932615585, 7.5944...   \n",
       "27  [16.618129400533842, 16.359915952171683, 16.24...   \n",
       "28  [4.619598808911491, 4.607694081510327, 4.60451...   \n",
       "29  [122.26732108551771, 122.37200181658052, 122.9...   \n",
       "30  [2.8808751866182223, 2.9055453834726928, 2.925...   \n",
       "31  [46.83231247968326, 47.09276512776946, 47.2522...   \n",
       "32  [11.306284237030905, 11.28697507976901, 11.277...   \n",
       "33  [9.99368146563195, 9.974088337001671, 10.06401...   \n",
       "34  [41.12825686972238, 41.386464618765594, 41.733...   \n",
       "35  [40.132012415546626, 40.142284530267155, 40.20...   \n",
       "36  [42.31006652807323, 42.32902382061834, 42.7202...   \n",
       "37  [26.348252702155612, 26.339408570975934, 26.32...   \n",
       "38  [59.83647472553663, 58.777557630745555, 58.395...   \n",
       "39  [3.4580683299946253, 3.4670222140956364, 3.469...   \n",
       "40  [40.23556929765307, 40.186375270727595, 39.957...   \n",
       "41  [12.623524964267729, 12.873162515061589, 13.13...   \n",
       "42  [46.6887198476793, 46.62109535658865, 46.60110...   \n",
       "43  [12.354132857099213, 13.483790460760845, 13.62...   \n",
       "44  [110.42073917661654, 110.04339055381394, 109.7...   \n",
       "45  [1.956984348722246, 1.857032749277165, 1.83819...   \n",
       "46  [15.066945074534953, 15.219436072698109, 15.34...   \n",
       "47  [31.750764877522307, 31.721693562327133, 31.72...   \n",
       "48  [6.6611995956160435, 6.654683310968327, 6.7077...   \n",
       "49  [10.331161850805637, 10.318914363319792, 10.34...   \n",
       "\n",
       "                             Future_Price_Predictions  \n",
       "0   [17.64174288667546, 17.671253202996457, 17.693...  \n",
       "1   [29.034137172590395, 29.529253790267123, 30.02...  \n",
       "2   [30.03555515514592, 29.06110509791109, 28.3284...  \n",
       "3   [250.1633322010434, 256.92304715059703, 263.78...  \n",
       "4   [142.19716814335985, 141.40105063624713, 140.5...  \n",
       "5   [3.528078594331514, 3.591876835035827, 3.63660...  \n",
       "6   [20.434361382638333, 20.32068516612367, 20.284...  \n",
       "7   [7.496727789138786, 7.4764900462553765, 7.4746...  \n",
       "8   [18.987035511934465, 19.568905948196193, 20.09...  \n",
       "9   [12.530394908053768, 13.13340357675532, 13.765...  \n",
       "10  [8.830637191156066, 9.172113666128938, 9.48946...  \n",
       "11  [3.0091165441081693, 2.9868394423092823, 2.965...  \n",
       "12  [11.04212079894334, 11.074396410655867, 11.109...  \n",
       "13  [15.218007772117357, 15.557208324278557, 15.83...  \n",
       "14  [4.215663957282269, 4.3945293464430355, 4.3377...  \n",
       "15  [37.95862282738625, 37.79716491288101, 37.6561...  \n",
       "16  [17.792309575407234, 17.980912349460095, 18.17...  \n",
       "17  [89.32040733259666, 89.30379532358603, 89.2607...  \n",
       "18  [125.3585138219883, 123.9942166457904, 122.517...  \n",
       "19  [31.850092077417145, 32.08359577753448, 32.281...  \n",
       "20  [8.854119737393765, 8.757957226425507, 8.69432...  \n",
       "21  [22.937176635854435, 23.510781053649033, 24.07...  \n",
       "22  [39.41603286071251, 39.1331913112703, 38.83609...  \n",
       "23  [9.61008400786154, 9.48132975936999, 9.3675680...  \n",
       "24  [13.541703418326575, 13.61674228506727, 13.693...  \n",
       "25  [76.99878125029387, 76.80046820986072, 76.5382...  \n",
       "26  [8.068530123617546, 9.545331752167787, 10.5962...  \n",
       "27  [18.605435524392973, 18.702426132061277, 18.86...  \n",
       "28  [5.35955576896909, 5.390003200569601, 5.423166...  \n",
       "29  [167.3194605932342, 165.9175763545535, 164.165...  \n",
       "30  [2.834151390120325, 2.873792253042244, 2.91297...  \n",
       "31  [52.20851036560691, 53.05599520096715, 53.7808...  \n",
       "32  [12.106502691912393, 12.182171117491833, 12.24...  \n",
       "33  [10.92827121249026, 11.007394155819272, 11.065...  \n",
       "34  [45.9344954650451, 46.253751245346606, 46.5369...  \n",
       "35  [47.613459741061554, 47.87894041224563, 48.074...  \n",
       "36  [51.61402060496067, 50.794063224238904, 49.892...  \n",
       "37  [25.755150639825047, 25.808732678815034, 25.85...  \n",
       "38  [63.439709038168736, 70.6951606967587, 78.9194...  \n",
       "39  [3.4634237135442882, 3.471916669601317, 3.4773...  \n",
       "40  [47.80225063138605, 47.32004922741598, 47.1756...  \n",
       "41  [10.381123556155941, 10.392492358158124, 10.41...  \n",
       "42  [47.15968413854074, 47.237011840052006, 47.289...  \n",
       "43  [14.184416352632828, 13.82467356650498, 13.222...  \n",
       "44  [127.17067820264583, 127.11390662992655, 127.0...  \n",
       "45  [21.543583941945762, 25.105093409011136, 24.05...  \n",
       "46  [19.876304973417362, 19.75384259268689, 19.650...  \n",
       "47  [31.232573955642565, 31.295393093319465, 31.36...  \n",
       "48  [11.306164572214154, 11.112883973291869, 11.01...  \n",
       "49  [10.959264504041524, 11.20970788383302, 11.349...  "
      ]
     },
     "execution_count": 27,
     "metadata": {},
     "output_type": "execute_result"
    }
   ],
   "source": [
    "summary_svr"
   ]
  },
  {
   "cell_type": "code",
   "execution_count": 28,
   "id": "162bdaca-4b68-459c-825c-2534a51a0cb0",
   "metadata": {},
   "outputs": [
    {
     "name": "stderr",
     "output_type": "stream",
     "text": [
      "INFO:root:Loaded 'forecast_summary_svr.csv' successfully.\n"
     ]
    },
    {
     "data": {
      "text/html": [
       "\n",
       "        <iframe\n",
       "            width=\"100%\"\n",
       "            height=\"650\"\n",
       "            src=\"http://127.0.0.1:8050/\"\n",
       "            frameborder=\"0\"\n",
       "            allowfullscreen\n",
       "            \n",
       "        ></iframe>\n",
       "        "
      ],
      "text/plain": [
       "<IPython.lib.display.IFrame at 0x24113f9b680>"
      ]
     },
     "metadata": {},
     "output_type": "display_data"
    }
   ],
   "source": [
    "import os\n",
    "import pandas as pd\n",
    "import numpy as np\n",
    "import dash\n",
    "from dash import html, dcc\n",
    "from dash.dependencies import Input, Output\n",
    "import plotly.graph_objs as go\n",
    "import logging\n",
    "import json\n",
    "from datetime import timedelta\n",
    "\n",
    "# Configure logging\n",
    "logging.basicConfig(level=logging.INFO, format='%(asctime)s %(levelname)s:%(message)s')\n",
    "\n",
    "# Paths to data\n",
    "folder_path = r'C:\\Users\\Pham Ty\\Desktop\\Thesis-Predict\\Dataset-2'  # Folder with stock CSV files\n",
    "output_folder = r'C:\\Users\\Pham Ty\\Desktop\\Thesis-Predict\\Dataset_processed_2'  # Output folder\n",
    "\n",
    "# List of stock symbols\n",
    "symbols = ['NVDA', 'INTC', 'PLTR', 'TSLA', 'AAPL', 'BBD', 'T', 'SOFI',\n",
    "           'WBD', 'SNAP', 'NIO', 'BTG', 'F', 'AAL', 'NOK', 'BAC',\n",
    "           'CCL', 'ORCL', 'AMD', 'PFE', 'KGC', 'MARA', 'SLB', 'NU',\n",
    "           'MPW', 'MU', 'LCID', 'NCLH', 'RIG', 'AMZN', 'ABEV', 'U',\n",
    "           'LUMN', 'AGNC', 'VZ', 'WBA', 'WFC', 'RIVN', 'UPST', 'GRAB',\n",
    "           'CSCO', 'VALE', 'AVGO', 'PBR', 'GOOGL', 'SMMT', 'GOLD',\n",
    "           'CMG', 'BCS', 'UAA']\n",
    "\n",
    "# Load forecast_summary_svr.csv\n",
    "forecast_summary_file = os.path.join(output_folder, 'forecast_summary_svr.csv')\n",
    "if os.path.exists(forecast_summary_file):\n",
    "    forecast_summary_df = pd.read_csv(forecast_summary_file)\n",
    "    # Parse JSON-serialized lists into actual lists\n",
    "    list_columns = ['Predicted_Prices', 'Test_Prices', 'Future_Price_Predictions', 'Train_Prices']\n",
    "    for col in list_columns:\n",
    "        if col in forecast_summary_df.columns:\n",
    "            forecast_summary_df[col] = forecast_summary_df[col].apply(\n",
    "                lambda x: json.loads(x) if pd.notnull(x) else []\n",
    "            )\n",
    "    logging.info(\"Loaded 'forecast_summary_svr.csv' successfully.\")\n",
    "else:\n",
    "    forecast_summary_df = pd.DataFrame()\n",
    "    logging.warning(\"Could not find 'forecast_summary_svr.csv'. Evaluation metrics and forecasts will not be displayed.\")\n",
    "\n",
    "# Initialize Dash app\n",
    "app = dash.Dash(__name__)\n",
    "server = app.server  # For deployment\n",
    "\n",
    "# Define app layout\n",
    "app.layout = html.Div([\n",
    "    html.H1('SVR Stock Price Predictions Dashboard'),\n",
    "    html.Div([\n",
    "        html.Label('Select Stock Symbol'),\n",
    "        dcc.Dropdown(\n",
    "            id='stock-dropdown',\n",
    "            options=[{'label': s, 'value': s} for s in symbols],\n",
    "            value='NVDA'  # Default stock\n",
    "        )\n",
    "    ], style={'width': '25%', 'display': 'inline-block'}),\n",
    "    html.Div([\n",
    "        html.Label('Select Date Range'),\n",
    "        dcc.DatePickerRange(\n",
    "            id='date-picker',\n",
    "            min_date_allowed='2014-09-18',  # Adjust based on your data\n",
    "            max_date_allowed='2024-09-18',  # Adjust based on your data\n",
    "            start_date='2014-09-18',        # Default start date\n",
    "            end_date='2024-09-18'           # Default end date\n",
    "        )\n",
    "    ], style={'display': 'inline-block', 'marginLeft': '50px'}),\n",
    "    html.Div([\n",
    "        html.Label('Show 1-Year Forecast'),\n",
    "        dcc.Checklist(\n",
    "            id='forecast-checkbox',\n",
    "            options=[{'label': 'Include 1-Year Forecast', 'value': 'show_forecast'}],\n",
    "            value=[],\n",
    "            inline=True\n",
    "        )\n",
    "    ], style={'marginTop': '20px'}),\n",
    "    dcc.Graph(id='price-graph'),\n",
    "    html.Div(id='metrics-output', style={'marginTop': '20px'})\n",
    "])\n",
    "\n",
    "# Define callback to update graph and evaluation metrics\n",
    "@app.callback(\n",
    "    [Output('price-graph', 'figure'),\n",
    "     Output('metrics-output', 'children')],\n",
    "    [Input('stock-dropdown', 'value'),\n",
    "     Input('date-picker', 'start_date'),\n",
    "     Input('date-picker', 'end_date'),\n",
    "     Input('forecast-checkbox', 'value')]\n",
    ")\n",
    "def update_graph(selected_stock, start_date, end_date, forecast_option):\n",
    "    # Convert start_date and end_date to datetime\n",
    "    start_date = pd.to_datetime(start_date)\n",
    "    end_date = pd.to_datetime(end_date)\n",
    "\n",
    "    # Get the forecast data for the selected stock\n",
    "    forecast_row = forecast_summary_df[forecast_summary_df['Symbol'] == selected_stock]\n",
    "\n",
    "    if forecast_row.empty:\n",
    "        logging.error(f\"No forecast data found for {selected_stock}.\")\n",
    "        return {\n",
    "            'data': [],\n",
    "            'layout': go.Layout(\n",
    "                title=f'{selected_stock} Price Prediction',\n",
    "                xaxis={'title': 'Date'},\n",
    "                yaxis={'title': 'Price'}\n",
    "            )\n",
    "        }, f\"No forecast data found for {selected_stock}.\"\n",
    "\n",
    "    # Parse 'Test_Prices', 'Predicted_Prices', 'Future_Price_Predictions', 'Train_Prices'\n",
    "    test_prices = forecast_row.iloc[0]['Test_Prices']\n",
    "    predicted_prices = forecast_row.iloc[0]['Predicted_Prices']\n",
    "    future_prices = forecast_row.iloc[0]['Future_Price_Predictions']\n",
    "    train_prices = forecast_row.iloc[0]['Train_Prices']\n",
    "\n",
    "    # Load the stock data to get dates\n",
    "    stock_data_file = os.path.join(folder_path, f'{selected_stock}.csv')\n",
    "    if not os.path.exists(stock_data_file):\n",
    "        logging.error(f\"Stock data file not found for {selected_stock}.\")\n",
    "        return {\n",
    "            'data': [],\n",
    "            'layout': go.Layout(\n",
    "                title=f'{selected_stock} Price Prediction',\n",
    "                xaxis={'title': 'Date'},\n",
    "                yaxis={'title': 'Price'}\n",
    "            )\n",
    "        }, f\"Stock data file not found for {selected_stock}.\"\n",
    "\n",
    "    df_stock = pd.read_csv(stock_data_file)\n",
    "    if 'Date' not in df_stock.columns or 'Close' not in df_stock.columns:\n",
    "        logging.error(f\"Incorrect data format in stock data file for {selected_stock}.\")\n",
    "        return {\n",
    "            'data': [],\n",
    "            'layout': go.Layout(\n",
    "                title=f'{selected_stock} Price Prediction',\n",
    "                xaxis={'title': 'Date'},\n",
    "                yaxis={'title': 'Price'}\n",
    "            )\n",
    "        }, f\"Incorrect data format in stock data file for {selected_stock}.\"\n",
    "\n",
    "    # Convert 'Date' to datetime\n",
    "    df_stock['Date'] = pd.to_datetime(df_stock['Date'])\n",
    "    dates = df_stock['Date']\n",
    "    data_length = len(df_stock)\n",
    "\n",
    "    time_step = 60  # As used in your model\n",
    "    total_samples = data_length - time_step\n",
    "\n",
    "    # Calculate train_size and test_size based on 80:20 split\n",
    "    train_size = int(total_samples * 0.8)\n",
    "    test_size = total_samples - train_size\n",
    "\n",
    "    # Ensure that the length of 'Test_Prices' matches 'test_size'\n",
    "    if len(test_prices) != test_size or len(predicted_prices) != test_size:\n",
    "        logging.error(f\"Length mismatch between Test/Predict prices and test set for {selected_stock}.\")\n",
    "        return {\n",
    "            'data': [],\n",
    "            'layout': go.Layout(\n",
    "                title=f'{selected_stock} Price Prediction',\n",
    "                xaxis={'title': 'Date'},\n",
    "                yaxis={'title': 'Price'}\n",
    "            )\n",
    "        }, f\"Length mismatch in data for {selected_stock}.\"\n",
    "\n",
    "    # Get indices for train and test sets in original data\n",
    "    train_indices_in_y_data = range(0, train_size)\n",
    "    test_indices_in_y_data = range(train_size, train_size + test_size)\n",
    "    indices_train = [i + time_step for i in train_indices_in_y_data]\n",
    "    indices_test = [i + time_step for i in test_indices_in_y_data]\n",
    "\n",
    "    # Ensure indices do not exceed the length of dates\n",
    "    indices_train = [i for i in indices_train if i < len(dates)]\n",
    "    indices_test = [i for i in indices_test if i < len(dates)]\n",
    "\n",
    "    # Dates for train and test sets\n",
    "    dates_train = dates.iloc[indices_train].reset_index(drop=True)\n",
    "    dates_test = dates.iloc[indices_test].reset_index(drop=True)\n",
    "\n",
    "    # Create DataFrame for train set\n",
    "    df_train = pd.DataFrame({\n",
    "        'Date': dates_train,\n",
    "        'Train_Price': train_prices\n",
    "    })\n",
    "\n",
    "    # Create DataFrame for test set\n",
    "    df_test = pd.DataFrame({\n",
    "        'Date': dates_test,\n",
    "        'Test_Price': test_prices,\n",
    "        'Predicted_Price': predicted_prices\n",
    "    })\n",
    "\n",
    "    # Filter df_train and df_test based on 'start_date' and 'end_date'\n",
    "    df_train_filtered = df_train[(df_train['Date'] >= start_date) & (df_train['Date'] <= end_date)]\n",
    "    df_test_filtered = df_test[(df_test['Date'] >= start_date) & (df_test['Date'] <= end_date)]\n",
    "\n",
    "    # Initialize data list for plotting\n",
    "    data = []\n",
    "\n",
    "    # Add Train Prices if available in the selected date range\n",
    "    if not df_train_filtered.empty:\n",
    "        data.append(\n",
    "            go.Scatter(\n",
    "                x=df_train_filtered['Date'],\n",
    "                y=df_train_filtered['Train_Price'],\n",
    "                mode='lines',\n",
    "                name='Train Price',\n",
    "                line=dict(color='red')\n",
    "            )\n",
    "        )\n",
    "\n",
    "    # Add Actual Test Prices\n",
    "    if not df_test_filtered.empty:\n",
    "        data.append(\n",
    "            go.Scatter(\n",
    "                x=df_test_filtered['Date'],\n",
    "                y=df_test_filtered['Test_Price'],\n",
    "                mode='lines',\n",
    "                name='Actual Test Price',\n",
    "                line=dict(color='green')\n",
    "            )\n",
    "        )\n",
    "\n",
    "    # Add Predicted Test Prices\n",
    "    if not df_test_filtered.empty:\n",
    "        data.append(\n",
    "            go.Scatter(\n",
    "                x=df_test_filtered['Date'],\n",
    "                y=df_test_filtered['Predicted_Price'],\n",
    "                mode='lines',\n",
    "                name='Predicted Test Price',\n",
    "                line=dict(color='blue')\n",
    "            )\n",
    "        )\n",
    "\n",
    "    # Add future price predictions if selected\n",
    "    if 'show_forecast' in forecast_option:\n",
    "        # Generate future dates\n",
    "        last_date = dates.iloc[-1]\n",
    "        future_dates = pd.date_range(start=last_date + pd.Timedelta(days=1), periods=len(future_prices), freq='D')\n",
    "\n",
    "        if len(future_prices) != len(future_dates):\n",
    "            logging.error(f\"Length mismatch between future prices and future dates for {selected_stock}.\")\n",
    "        else:\n",
    "            data.append(\n",
    "                go.Scatter(\n",
    "                    x=future_dates,\n",
    "                    y=future_prices,\n",
    "                    mode='lines',\n",
    "                    name='1-Year Forecast',\n",
    "                    line=dict(dash='dash', color='orange')\n",
    "                )\n",
    "            )\n",
    "\n",
    "    # Create figure\n",
    "    figure = {\n",
    "        'data': data,\n",
    "        'layout': go.Layout(\n",
    "            title=f'{selected_stock} Price Prediction',\n",
    "            xaxis={'title': 'Date'},\n",
    "            yaxis={'title': 'Price'},\n",
    "            hovermode='closest'\n",
    "        )\n",
    "    }\n",
    "\n",
    "    # Get RMSE, MSE, and MAPE\n",
    "    try:\n",
    "        rmse = float(forecast_row.iloc[0]['RMSE'])\n",
    "        mse = float(forecast_row.iloc[0]['MSE'])\n",
    "        mape = float(forecast_row.iloc[0]['MAPE'])\n",
    "    except (ValueError, TypeError) as e:\n",
    "        logging.error(f\"Error parsing evaluation metrics for {selected_stock}: {e}\")\n",
    "        rmse = mse = mape = None\n",
    "\n",
    "    # Prepare metrics output\n",
    "    if rmse is not None and mse is not None and mape is not None:\n",
    "        metrics_output = [\n",
    "            html.P(f'Root Mean Squared Error (RMSE): {rmse:.4f}'),\n",
    "            html.P(f'Mean Squared Error (MSE): {mse:.4f}'),\n",
    "            html.P(f'Mean Absolute Percentage Error (MAPE): {mape:.2%}')\n",
    "        ]\n",
    "    else:\n",
    "        metrics_output = [html.P(\"Evaluation metrics are not available.\")]\n",
    "\n",
    "    return figure, metrics_output\n",
    "\n",
    "# Run Dash app\n",
    "if __name__ == '__main__':\n",
    "    app.run_server(debug=False, use_reloader=False)"
   ]
  },
  {
   "cell_type": "code",
   "execution_count": null,
   "id": "94c81b68-9a9e-4e2b-9f38-95e3dd74651b",
   "metadata": {},
   "outputs": [],
   "source": []
  }
 ],
 "metadata": {
  "kernelspec": {
   "display_name": "Python 3 (ipykernel)",
   "language": "python",
   "name": "python3"
  },
  "language_info": {
   "codemirror_mode": {
    "name": "ipython",
    "version": 3
   },
   "file_extension": ".py",
   "mimetype": "text/x-python",
   "name": "python",
   "nbconvert_exporter": "python",
   "pygments_lexer": "ipython3",
   "version": "3.12.4"
  }
 },
 "nbformat": 4,
 "nbformat_minor": 5
}
